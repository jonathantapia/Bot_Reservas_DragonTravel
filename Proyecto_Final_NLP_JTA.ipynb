{
  "cells": [
    {
      "cell_type": "code",
      "source": [
        "# Library\n",
        "!pip install SpeechRecognition pydub numpy #ffmpeg\n",
        "!pip install openai-whisper spacy\n",
        "!python -m spacy download es_core_news_md\n",
        "!python -m spacy download en_core_web_md\n",
        "!pip install mysql-connector-python gtts pyttsx3\n",
        "!pip uninstall ffmpeg imageio-ffmpeg -y\n",
        "!pip install ffmpeg-python"
      ],
      "metadata": {
        "colab": {
          "base_uri": "https://localhost:8080/"
        },
        "collapsed": true,
        "id": "b8vofCdSIk-8",
        "outputId": "4875d361-63ab-4dcf-a841-10c5ee93f567"
      },
      "execution_count": 3,
      "outputs": [
        {
          "output_type": "stream",
          "name": "stdout",
          "text": [
            "Requirement already satisfied: SpeechRecognition in /usr/local/lib/python3.11/dist-packages (3.14.1)\n",
            "Requirement already satisfied: pydub in /usr/local/lib/python3.11/dist-packages (0.25.1)\n",
            "Requirement already satisfied: numpy in /usr/local/lib/python3.11/dist-packages (1.26.4)\n",
            "Requirement already satisfied: typing-extensions in /usr/local/lib/python3.11/dist-packages (from SpeechRecognition) (4.12.2)\n",
            "Requirement already satisfied: openai-whisper in /usr/local/lib/python3.11/dist-packages (20240930)\n",
            "Requirement already satisfied: spacy in /usr/local/lib/python3.11/dist-packages (3.7.5)\n",
            "Requirement already satisfied: numba in /usr/local/lib/python3.11/dist-packages (from openai-whisper) (0.61.0)\n",
            "Requirement already satisfied: numpy in /usr/local/lib/python3.11/dist-packages (from openai-whisper) (1.26.4)\n",
            "Requirement already satisfied: torch in /usr/local/lib/python3.11/dist-packages (from openai-whisper) (2.6.0+cu124)\n",
            "Requirement already satisfied: tqdm in /usr/local/lib/python3.11/dist-packages (from openai-whisper) (4.67.1)\n",
            "Requirement already satisfied: more-itertools in /usr/local/lib/python3.11/dist-packages (from openai-whisper) (10.6.0)\n",
            "Requirement already satisfied: tiktoken in /usr/local/lib/python3.11/dist-packages (from openai-whisper) (0.9.0)\n",
            "Requirement already satisfied: triton>=2.0.0 in /usr/local/lib/python3.11/dist-packages (from openai-whisper) (3.2.0)\n",
            "Requirement already satisfied: spacy-legacy<3.1.0,>=3.0.11 in /usr/local/lib/python3.11/dist-packages (from spacy) (3.0.12)\n",
            "Requirement already satisfied: spacy-loggers<2.0.0,>=1.0.0 in /usr/local/lib/python3.11/dist-packages (from spacy) (1.0.5)\n",
            "Requirement already satisfied: murmurhash<1.1.0,>=0.28.0 in /usr/local/lib/python3.11/dist-packages (from spacy) (1.0.12)\n",
            "Requirement already satisfied: cymem<2.1.0,>=2.0.2 in /usr/local/lib/python3.11/dist-packages (from spacy) (2.0.11)\n",
            "Requirement already satisfied: preshed<3.1.0,>=3.0.2 in /usr/local/lib/python3.11/dist-packages (from spacy) (3.0.9)\n",
            "Requirement already satisfied: thinc<8.3.0,>=8.2.2 in /usr/local/lib/python3.11/dist-packages (from spacy) (8.2.5)\n",
            "Requirement already satisfied: wasabi<1.2.0,>=0.9.1 in /usr/local/lib/python3.11/dist-packages (from spacy) (1.1.3)\n",
            "Requirement already satisfied: srsly<3.0.0,>=2.4.3 in /usr/local/lib/python3.11/dist-packages (from spacy) (2.5.1)\n",
            "Requirement already satisfied: catalogue<2.1.0,>=2.0.6 in /usr/local/lib/python3.11/dist-packages (from spacy) (2.0.10)\n",
            "Requirement already satisfied: weasel<0.5.0,>=0.1.0 in /usr/local/lib/python3.11/dist-packages (from spacy) (0.4.1)\n",
            "Requirement already satisfied: typer<1.0.0,>=0.3.0 in /usr/local/lib/python3.11/dist-packages (from spacy) (0.15.2)\n",
            "Requirement already satisfied: requests<3.0.0,>=2.13.0 in /usr/local/lib/python3.11/dist-packages (from spacy) (2.32.3)\n",
            "Requirement already satisfied: pydantic!=1.8,!=1.8.1,<3.0.0,>=1.7.4 in /usr/local/lib/python3.11/dist-packages (from spacy) (2.10.6)\n",
            "Requirement already satisfied: jinja2 in /usr/local/lib/python3.11/dist-packages (from spacy) (3.1.6)\n",
            "Requirement already satisfied: setuptools in /usr/local/lib/python3.11/dist-packages (from spacy) (75.1.0)\n",
            "Requirement already satisfied: packaging>=20.0 in /usr/local/lib/python3.11/dist-packages (from spacy) (24.2)\n",
            "Requirement already satisfied: langcodes<4.0.0,>=3.2.0 in /usr/local/lib/python3.11/dist-packages (from spacy) (3.5.0)\n",
            "Requirement already satisfied: language-data>=1.2 in /usr/local/lib/python3.11/dist-packages (from langcodes<4.0.0,>=3.2.0->spacy) (1.3.0)\n",
            "Requirement already satisfied: annotated-types>=0.6.0 in /usr/local/lib/python3.11/dist-packages (from pydantic!=1.8,!=1.8.1,<3.0.0,>=1.7.4->spacy) (0.7.0)\n",
            "Requirement already satisfied: pydantic-core==2.27.2 in /usr/local/lib/python3.11/dist-packages (from pydantic!=1.8,!=1.8.1,<3.0.0,>=1.7.4->spacy) (2.27.2)\n",
            "Requirement already satisfied: typing-extensions>=4.12.2 in /usr/local/lib/python3.11/dist-packages (from pydantic!=1.8,!=1.8.1,<3.0.0,>=1.7.4->spacy) (4.12.2)\n",
            "Requirement already satisfied: charset-normalizer<4,>=2 in /usr/local/lib/python3.11/dist-packages (from requests<3.0.0,>=2.13.0->spacy) (3.4.1)\n",
            "Requirement already satisfied: idna<4,>=2.5 in /usr/local/lib/python3.11/dist-packages (from requests<3.0.0,>=2.13.0->spacy) (3.10)\n",
            "Requirement already satisfied: urllib3<3,>=1.21.1 in /usr/local/lib/python3.11/dist-packages (from requests<3.0.0,>=2.13.0->spacy) (2.3.0)\n",
            "Requirement already satisfied: certifi>=2017.4.17 in /usr/local/lib/python3.11/dist-packages (from requests<3.0.0,>=2.13.0->spacy) (2025.1.31)\n",
            "Requirement already satisfied: blis<0.8.0,>=0.7.8 in /usr/local/lib/python3.11/dist-packages (from thinc<8.3.0,>=8.2.2->spacy) (0.7.11)\n",
            "Requirement already satisfied: confection<1.0.0,>=0.0.1 in /usr/local/lib/python3.11/dist-packages (from thinc<8.3.0,>=8.2.2->spacy) (0.1.5)\n",
            "Requirement already satisfied: click>=8.0.0 in /usr/local/lib/python3.11/dist-packages (from typer<1.0.0,>=0.3.0->spacy) (8.1.8)\n",
            "Requirement already satisfied: shellingham>=1.3.0 in /usr/local/lib/python3.11/dist-packages (from typer<1.0.0,>=0.3.0->spacy) (1.5.4)\n",
            "Requirement already satisfied: rich>=10.11.0 in /usr/local/lib/python3.11/dist-packages (from typer<1.0.0,>=0.3.0->spacy) (13.9.4)\n",
            "Requirement already satisfied: cloudpathlib<1.0.0,>=0.7.0 in /usr/local/lib/python3.11/dist-packages (from weasel<0.5.0,>=0.1.0->spacy) (0.21.0)\n",
            "Requirement already satisfied: smart-open<8.0.0,>=5.2.1 in /usr/local/lib/python3.11/dist-packages (from weasel<0.5.0,>=0.1.0->spacy) (7.1.0)\n",
            "Requirement already satisfied: MarkupSafe>=2.0 in /usr/local/lib/python3.11/dist-packages (from jinja2->spacy) (3.0.2)\n",
            "Requirement already satisfied: llvmlite<0.45,>=0.44.0dev0 in /usr/local/lib/python3.11/dist-packages (from numba->openai-whisper) (0.44.0)\n",
            "Requirement already satisfied: regex>=2022.1.18 in /usr/local/lib/python3.11/dist-packages (from tiktoken->openai-whisper) (2024.11.6)\n",
            "Requirement already satisfied: filelock in /usr/local/lib/python3.11/dist-packages (from torch->openai-whisper) (3.17.0)\n",
            "Requirement already satisfied: networkx in /usr/local/lib/python3.11/dist-packages (from torch->openai-whisper) (3.4.2)\n",
            "Requirement already satisfied: fsspec in /usr/local/lib/python3.11/dist-packages (from torch->openai-whisper) (2024.10.0)\n",
            "Requirement already satisfied: nvidia-cuda-nvrtc-cu12==12.4.127 in /usr/local/lib/python3.11/dist-packages (from torch->openai-whisper) (12.4.127)\n",
            "Requirement already satisfied: nvidia-cuda-runtime-cu12==12.4.127 in /usr/local/lib/python3.11/dist-packages (from torch->openai-whisper) (12.4.127)\n",
            "Requirement already satisfied: nvidia-cuda-cupti-cu12==12.4.127 in /usr/local/lib/python3.11/dist-packages (from torch->openai-whisper) (12.4.127)\n",
            "Requirement already satisfied: nvidia-cudnn-cu12==9.1.0.70 in /usr/local/lib/python3.11/dist-packages (from torch->openai-whisper) (9.1.0.70)\n",
            "Requirement already satisfied: nvidia-cublas-cu12==12.4.5.8 in /usr/local/lib/python3.11/dist-packages (from torch->openai-whisper) (12.4.5.8)\n",
            "Requirement already satisfied: nvidia-cufft-cu12==11.2.1.3 in /usr/local/lib/python3.11/dist-packages (from torch->openai-whisper) (11.2.1.3)\n",
            "Requirement already satisfied: nvidia-curand-cu12==10.3.5.147 in /usr/local/lib/python3.11/dist-packages (from torch->openai-whisper) (10.3.5.147)\n",
            "Requirement already satisfied: nvidia-cusolver-cu12==11.6.1.9 in /usr/local/lib/python3.11/dist-packages (from torch->openai-whisper) (11.6.1.9)\n",
            "Requirement already satisfied: nvidia-cusparse-cu12==12.3.1.170 in /usr/local/lib/python3.11/dist-packages (from torch->openai-whisper) (12.3.1.170)\n",
            "Requirement already satisfied: nvidia-cusparselt-cu12==0.6.2 in /usr/local/lib/python3.11/dist-packages (from torch->openai-whisper) (0.6.2)\n",
            "Requirement already satisfied: nvidia-nccl-cu12==2.21.5 in /usr/local/lib/python3.11/dist-packages (from torch->openai-whisper) (2.21.5)\n",
            "Requirement already satisfied: nvidia-nvtx-cu12==12.4.127 in /usr/local/lib/python3.11/dist-packages (from torch->openai-whisper) (12.4.127)\n",
            "Requirement already satisfied: nvidia-nvjitlink-cu12==12.4.127 in /usr/local/lib/python3.11/dist-packages (from torch->openai-whisper) (12.4.127)\n",
            "Requirement already satisfied: sympy==1.13.1 in /usr/local/lib/python3.11/dist-packages (from torch->openai-whisper) (1.13.1)\n",
            "Requirement already satisfied: mpmath<1.4,>=1.1.0 in /usr/local/lib/python3.11/dist-packages (from sympy==1.13.1->torch->openai-whisper) (1.3.0)\n",
            "Requirement already satisfied: marisa-trie>=1.1.0 in /usr/local/lib/python3.11/dist-packages (from language-data>=1.2->langcodes<4.0.0,>=3.2.0->spacy) (1.2.1)\n",
            "Requirement already satisfied: markdown-it-py>=2.2.0 in /usr/local/lib/python3.11/dist-packages (from rich>=10.11.0->typer<1.0.0,>=0.3.0->spacy) (3.0.0)\n",
            "Requirement already satisfied: pygments<3.0.0,>=2.13.0 in /usr/local/lib/python3.11/dist-packages (from rich>=10.11.0->typer<1.0.0,>=0.3.0->spacy) (2.18.0)\n",
            "Requirement already satisfied: wrapt in /usr/local/lib/python3.11/dist-packages (from smart-open<8.0.0,>=5.2.1->weasel<0.5.0,>=0.1.0->spacy) (1.17.2)\n",
            "Requirement already satisfied: mdurl~=0.1 in /usr/local/lib/python3.11/dist-packages (from markdown-it-py>=2.2.0->rich>=10.11.0->typer<1.0.0,>=0.3.0->spacy) (0.1.2)\n",
            "Collecting es-core-news-md==3.7.0\n",
            "  Downloading https://github.com/explosion/spacy-models/releases/download/es_core_news_md-3.7.0/es_core_news_md-3.7.0-py3-none-any.whl (42.3 MB)\n",
            "\u001b[2K     \u001b[90m━━━━━━━━━━━━━━━━━━━━━━━━━━━━━━━━━━━━━━━━\u001b[0m \u001b[32m42.3/42.3 MB\u001b[0m \u001b[31m13.6 MB/s\u001b[0m eta \u001b[36m0:00:00\u001b[0m\n",
            "\u001b[?25hRequirement already satisfied: spacy<3.8.0,>=3.7.0 in /usr/local/lib/python3.11/dist-packages (from es-core-news-md==3.7.0) (3.7.5)\n",
            "Requirement already satisfied: spacy-legacy<3.1.0,>=3.0.11 in /usr/local/lib/python3.11/dist-packages (from spacy<3.8.0,>=3.7.0->es-core-news-md==3.7.0) (3.0.12)\n",
            "Requirement already satisfied: spacy-loggers<2.0.0,>=1.0.0 in /usr/local/lib/python3.11/dist-packages (from spacy<3.8.0,>=3.7.0->es-core-news-md==3.7.0) (1.0.5)\n",
            "Requirement already satisfied: murmurhash<1.1.0,>=0.28.0 in /usr/local/lib/python3.11/dist-packages (from spacy<3.8.0,>=3.7.0->es-core-news-md==3.7.0) (1.0.12)\n",
            "Requirement already satisfied: cymem<2.1.0,>=2.0.2 in /usr/local/lib/python3.11/dist-packages (from spacy<3.8.0,>=3.7.0->es-core-news-md==3.7.0) (2.0.11)\n",
            "Requirement already satisfied: preshed<3.1.0,>=3.0.2 in /usr/local/lib/python3.11/dist-packages (from spacy<3.8.0,>=3.7.0->es-core-news-md==3.7.0) (3.0.9)\n",
            "Requirement already satisfied: thinc<8.3.0,>=8.2.2 in /usr/local/lib/python3.11/dist-packages (from spacy<3.8.0,>=3.7.0->es-core-news-md==3.7.0) (8.2.5)\n",
            "Requirement already satisfied: wasabi<1.2.0,>=0.9.1 in /usr/local/lib/python3.11/dist-packages (from spacy<3.8.0,>=3.7.0->es-core-news-md==3.7.0) (1.1.3)\n",
            "Requirement already satisfied: srsly<3.0.0,>=2.4.3 in /usr/local/lib/python3.11/dist-packages (from spacy<3.8.0,>=3.7.0->es-core-news-md==3.7.0) (2.5.1)\n",
            "Requirement already satisfied: catalogue<2.1.0,>=2.0.6 in /usr/local/lib/python3.11/dist-packages (from spacy<3.8.0,>=3.7.0->es-core-news-md==3.7.0) (2.0.10)\n",
            "Requirement already satisfied: weasel<0.5.0,>=0.1.0 in /usr/local/lib/python3.11/dist-packages (from spacy<3.8.0,>=3.7.0->es-core-news-md==3.7.0) (0.4.1)\n",
            "Requirement already satisfied: typer<1.0.0,>=0.3.0 in /usr/local/lib/python3.11/dist-packages (from spacy<3.8.0,>=3.7.0->es-core-news-md==3.7.0) (0.15.2)\n",
            "Requirement already satisfied: tqdm<5.0.0,>=4.38.0 in /usr/local/lib/python3.11/dist-packages (from spacy<3.8.0,>=3.7.0->es-core-news-md==3.7.0) (4.67.1)\n",
            "Requirement already satisfied: requests<3.0.0,>=2.13.0 in /usr/local/lib/python3.11/dist-packages (from spacy<3.8.0,>=3.7.0->es-core-news-md==3.7.0) (2.32.3)\n",
            "Requirement already satisfied: pydantic!=1.8,!=1.8.1,<3.0.0,>=1.7.4 in /usr/local/lib/python3.11/dist-packages (from spacy<3.8.0,>=3.7.0->es-core-news-md==3.7.0) (2.10.6)\n",
            "Requirement already satisfied: jinja2 in /usr/local/lib/python3.11/dist-packages (from spacy<3.8.0,>=3.7.0->es-core-news-md==3.7.0) (3.1.6)\n",
            "Requirement already satisfied: setuptools in /usr/local/lib/python3.11/dist-packages (from spacy<3.8.0,>=3.7.0->es-core-news-md==3.7.0) (75.1.0)\n",
            "Requirement already satisfied: packaging>=20.0 in /usr/local/lib/python3.11/dist-packages (from spacy<3.8.0,>=3.7.0->es-core-news-md==3.7.0) (24.2)\n",
            "Requirement already satisfied: langcodes<4.0.0,>=3.2.0 in /usr/local/lib/python3.11/dist-packages (from spacy<3.8.0,>=3.7.0->es-core-news-md==3.7.0) (3.5.0)\n",
            "Requirement already satisfied: numpy>=1.19.0 in /usr/local/lib/python3.11/dist-packages (from spacy<3.8.0,>=3.7.0->es-core-news-md==3.7.0) (1.26.4)\n",
            "Requirement already satisfied: language-data>=1.2 in /usr/local/lib/python3.11/dist-packages (from langcodes<4.0.0,>=3.2.0->spacy<3.8.0,>=3.7.0->es-core-news-md==3.7.0) (1.3.0)\n",
            "Requirement already satisfied: annotated-types>=0.6.0 in /usr/local/lib/python3.11/dist-packages (from pydantic!=1.8,!=1.8.1,<3.0.0,>=1.7.4->spacy<3.8.0,>=3.7.0->es-core-news-md==3.7.0) (0.7.0)\n",
            "Requirement already satisfied: pydantic-core==2.27.2 in /usr/local/lib/python3.11/dist-packages (from pydantic!=1.8,!=1.8.1,<3.0.0,>=1.7.4->spacy<3.8.0,>=3.7.0->es-core-news-md==3.7.0) (2.27.2)\n",
            "Requirement already satisfied: typing-extensions>=4.12.2 in /usr/local/lib/python3.11/dist-packages (from pydantic!=1.8,!=1.8.1,<3.0.0,>=1.7.4->spacy<3.8.0,>=3.7.0->es-core-news-md==3.7.0) (4.12.2)\n",
            "Requirement already satisfied: charset-normalizer<4,>=2 in /usr/local/lib/python3.11/dist-packages (from requests<3.0.0,>=2.13.0->spacy<3.8.0,>=3.7.0->es-core-news-md==3.7.0) (3.4.1)\n",
            "Requirement already satisfied: idna<4,>=2.5 in /usr/local/lib/python3.11/dist-packages (from requests<3.0.0,>=2.13.0->spacy<3.8.0,>=3.7.0->es-core-news-md==3.7.0) (3.10)\n",
            "Requirement already satisfied: urllib3<3,>=1.21.1 in /usr/local/lib/python3.11/dist-packages (from requests<3.0.0,>=2.13.0->spacy<3.8.0,>=3.7.0->es-core-news-md==3.7.0) (2.3.0)\n",
            "Requirement already satisfied: certifi>=2017.4.17 in /usr/local/lib/python3.11/dist-packages (from requests<3.0.0,>=2.13.0->spacy<3.8.0,>=3.7.0->es-core-news-md==3.7.0) (2025.1.31)\n",
            "Requirement already satisfied: blis<0.8.0,>=0.7.8 in /usr/local/lib/python3.11/dist-packages (from thinc<8.3.0,>=8.2.2->spacy<3.8.0,>=3.7.0->es-core-news-md==3.7.0) (0.7.11)\n",
            "Requirement already satisfied: confection<1.0.0,>=0.0.1 in /usr/local/lib/python3.11/dist-packages (from thinc<8.3.0,>=8.2.2->spacy<3.8.0,>=3.7.0->es-core-news-md==3.7.0) (0.1.5)\n",
            "Requirement already satisfied: click>=8.0.0 in /usr/local/lib/python3.11/dist-packages (from typer<1.0.0,>=0.3.0->spacy<3.8.0,>=3.7.0->es-core-news-md==3.7.0) (8.1.8)\n",
            "Requirement already satisfied: shellingham>=1.3.0 in /usr/local/lib/python3.11/dist-packages (from typer<1.0.0,>=0.3.0->spacy<3.8.0,>=3.7.0->es-core-news-md==3.7.0) (1.5.4)\n",
            "Requirement already satisfied: rich>=10.11.0 in /usr/local/lib/python3.11/dist-packages (from typer<1.0.0,>=0.3.0->spacy<3.8.0,>=3.7.0->es-core-news-md==3.7.0) (13.9.4)\n",
            "Requirement already satisfied: cloudpathlib<1.0.0,>=0.7.0 in /usr/local/lib/python3.11/dist-packages (from weasel<0.5.0,>=0.1.0->spacy<3.8.0,>=3.7.0->es-core-news-md==3.7.0) (0.21.0)\n",
            "Requirement already satisfied: smart-open<8.0.0,>=5.2.1 in /usr/local/lib/python3.11/dist-packages (from weasel<0.5.0,>=0.1.0->spacy<3.8.0,>=3.7.0->es-core-news-md==3.7.0) (7.1.0)\n",
            "Requirement already satisfied: MarkupSafe>=2.0 in /usr/local/lib/python3.11/dist-packages (from jinja2->spacy<3.8.0,>=3.7.0->es-core-news-md==3.7.0) (3.0.2)\n",
            "Requirement already satisfied: marisa-trie>=1.1.0 in /usr/local/lib/python3.11/dist-packages (from language-data>=1.2->langcodes<4.0.0,>=3.2.0->spacy<3.8.0,>=3.7.0->es-core-news-md==3.7.0) (1.2.1)\n",
            "Requirement already satisfied: markdown-it-py>=2.2.0 in /usr/local/lib/python3.11/dist-packages (from rich>=10.11.0->typer<1.0.0,>=0.3.0->spacy<3.8.0,>=3.7.0->es-core-news-md==3.7.0) (3.0.0)\n",
            "Requirement already satisfied: pygments<3.0.0,>=2.13.0 in /usr/local/lib/python3.11/dist-packages (from rich>=10.11.0->typer<1.0.0,>=0.3.0->spacy<3.8.0,>=3.7.0->es-core-news-md==3.7.0) (2.18.0)\n",
            "Requirement already satisfied: wrapt in /usr/local/lib/python3.11/dist-packages (from smart-open<8.0.0,>=5.2.1->weasel<0.5.0,>=0.1.0->spacy<3.8.0,>=3.7.0->es-core-news-md==3.7.0) (1.17.2)\n",
            "Requirement already satisfied: mdurl~=0.1 in /usr/local/lib/python3.11/dist-packages (from markdown-it-py>=2.2.0->rich>=10.11.0->typer<1.0.0,>=0.3.0->spacy<3.8.0,>=3.7.0->es-core-news-md==3.7.0) (0.1.2)\n",
            "\u001b[38;5;2m✔ Download and installation successful\u001b[0m\n",
            "You can now load the package via spacy.load('es_core_news_md')\n",
            "\u001b[38;5;3m⚠ Restart to reload dependencies\u001b[0m\n",
            "If you are in a Jupyter or Colab notebook, you may need to restart Python in\n",
            "order to load all the package's dependencies. You can do this by selecting the\n",
            "'Restart kernel' or 'Restart runtime' option.\n",
            "Collecting en-core-web-md==3.7.1\n",
            "  Downloading https://github.com/explosion/spacy-models/releases/download/en_core_web_md-3.7.1/en_core_web_md-3.7.1-py3-none-any.whl (42.8 MB)\n",
            "\u001b[2K     \u001b[90m━━━━━━━━━━━━━━━━━━━━━━━━━━━━━━━━━━━━━━━━\u001b[0m \u001b[32m42.8/42.8 MB\u001b[0m \u001b[31m15.6 MB/s\u001b[0m eta \u001b[36m0:00:00\u001b[0m\n",
            "\u001b[?25hRequirement already satisfied: spacy<3.8.0,>=3.7.2 in /usr/local/lib/python3.11/dist-packages (from en-core-web-md==3.7.1) (3.7.5)\n",
            "Requirement already satisfied: spacy-legacy<3.1.0,>=3.0.11 in /usr/local/lib/python3.11/dist-packages (from spacy<3.8.0,>=3.7.2->en-core-web-md==3.7.1) (3.0.12)\n",
            "Requirement already satisfied: spacy-loggers<2.0.0,>=1.0.0 in /usr/local/lib/python3.11/dist-packages (from spacy<3.8.0,>=3.7.2->en-core-web-md==3.7.1) (1.0.5)\n",
            "Requirement already satisfied: murmurhash<1.1.0,>=0.28.0 in /usr/local/lib/python3.11/dist-packages (from spacy<3.8.0,>=3.7.2->en-core-web-md==3.7.1) (1.0.12)\n",
            "Requirement already satisfied: cymem<2.1.0,>=2.0.2 in /usr/local/lib/python3.11/dist-packages (from spacy<3.8.0,>=3.7.2->en-core-web-md==3.7.1) (2.0.11)\n",
            "Requirement already satisfied: preshed<3.1.0,>=3.0.2 in /usr/local/lib/python3.11/dist-packages (from spacy<3.8.0,>=3.7.2->en-core-web-md==3.7.1) (3.0.9)\n",
            "Requirement already satisfied: thinc<8.3.0,>=8.2.2 in /usr/local/lib/python3.11/dist-packages (from spacy<3.8.0,>=3.7.2->en-core-web-md==3.7.1) (8.2.5)\n",
            "Requirement already satisfied: wasabi<1.2.0,>=0.9.1 in /usr/local/lib/python3.11/dist-packages (from spacy<3.8.0,>=3.7.2->en-core-web-md==3.7.1) (1.1.3)\n",
            "Requirement already satisfied: srsly<3.0.0,>=2.4.3 in /usr/local/lib/python3.11/dist-packages (from spacy<3.8.0,>=3.7.2->en-core-web-md==3.7.1) (2.5.1)\n",
            "Requirement already satisfied: catalogue<2.1.0,>=2.0.6 in /usr/local/lib/python3.11/dist-packages (from spacy<3.8.0,>=3.7.2->en-core-web-md==3.7.1) (2.0.10)\n",
            "Requirement already satisfied: weasel<0.5.0,>=0.1.0 in /usr/local/lib/python3.11/dist-packages (from spacy<3.8.0,>=3.7.2->en-core-web-md==3.7.1) (0.4.1)\n",
            "Requirement already satisfied: typer<1.0.0,>=0.3.0 in /usr/local/lib/python3.11/dist-packages (from spacy<3.8.0,>=3.7.2->en-core-web-md==3.7.1) (0.15.2)\n",
            "Requirement already satisfied: tqdm<5.0.0,>=4.38.0 in /usr/local/lib/python3.11/dist-packages (from spacy<3.8.0,>=3.7.2->en-core-web-md==3.7.1) (4.67.1)\n",
            "Requirement already satisfied: requests<3.0.0,>=2.13.0 in /usr/local/lib/python3.11/dist-packages (from spacy<3.8.0,>=3.7.2->en-core-web-md==3.7.1) (2.32.3)\n",
            "Requirement already satisfied: pydantic!=1.8,!=1.8.1,<3.0.0,>=1.7.4 in /usr/local/lib/python3.11/dist-packages (from spacy<3.8.0,>=3.7.2->en-core-web-md==3.7.1) (2.10.6)\n",
            "Requirement already satisfied: jinja2 in /usr/local/lib/python3.11/dist-packages (from spacy<3.8.0,>=3.7.2->en-core-web-md==3.7.1) (3.1.6)\n",
            "Requirement already satisfied: setuptools in /usr/local/lib/python3.11/dist-packages (from spacy<3.8.0,>=3.7.2->en-core-web-md==3.7.1) (75.1.0)\n",
            "Requirement already satisfied: packaging>=20.0 in /usr/local/lib/python3.11/dist-packages (from spacy<3.8.0,>=3.7.2->en-core-web-md==3.7.1) (24.2)\n",
            "Requirement already satisfied: langcodes<4.0.0,>=3.2.0 in /usr/local/lib/python3.11/dist-packages (from spacy<3.8.0,>=3.7.2->en-core-web-md==3.7.1) (3.5.0)\n",
            "Requirement already satisfied: numpy>=1.19.0 in /usr/local/lib/python3.11/dist-packages (from spacy<3.8.0,>=3.7.2->en-core-web-md==3.7.1) (1.26.4)\n",
            "Requirement already satisfied: language-data>=1.2 in /usr/local/lib/python3.11/dist-packages (from langcodes<4.0.0,>=3.2.0->spacy<3.8.0,>=3.7.2->en-core-web-md==3.7.1) (1.3.0)\n",
            "Requirement already satisfied: annotated-types>=0.6.0 in /usr/local/lib/python3.11/dist-packages (from pydantic!=1.8,!=1.8.1,<3.0.0,>=1.7.4->spacy<3.8.0,>=3.7.2->en-core-web-md==3.7.1) (0.7.0)\n",
            "Requirement already satisfied: pydantic-core==2.27.2 in /usr/local/lib/python3.11/dist-packages (from pydantic!=1.8,!=1.8.1,<3.0.0,>=1.7.4->spacy<3.8.0,>=3.7.2->en-core-web-md==3.7.1) (2.27.2)\n",
            "Requirement already satisfied: typing-extensions>=4.12.2 in /usr/local/lib/python3.11/dist-packages (from pydantic!=1.8,!=1.8.1,<3.0.0,>=1.7.4->spacy<3.8.0,>=3.7.2->en-core-web-md==3.7.1) (4.12.2)\n",
            "Requirement already satisfied: charset-normalizer<4,>=2 in /usr/local/lib/python3.11/dist-packages (from requests<3.0.0,>=2.13.0->spacy<3.8.0,>=3.7.2->en-core-web-md==3.7.1) (3.4.1)\n",
            "Requirement already satisfied: idna<4,>=2.5 in /usr/local/lib/python3.11/dist-packages (from requests<3.0.0,>=2.13.0->spacy<3.8.0,>=3.7.2->en-core-web-md==3.7.1) (3.10)\n",
            "Requirement already satisfied: urllib3<3,>=1.21.1 in /usr/local/lib/python3.11/dist-packages (from requests<3.0.0,>=2.13.0->spacy<3.8.0,>=3.7.2->en-core-web-md==3.7.1) (2.3.0)\n",
            "Requirement already satisfied: certifi>=2017.4.17 in /usr/local/lib/python3.11/dist-packages (from requests<3.0.0,>=2.13.0->spacy<3.8.0,>=3.7.2->en-core-web-md==3.7.1) (2025.1.31)\n",
            "Requirement already satisfied: blis<0.8.0,>=0.7.8 in /usr/local/lib/python3.11/dist-packages (from thinc<8.3.0,>=8.2.2->spacy<3.8.0,>=3.7.2->en-core-web-md==3.7.1) (0.7.11)\n",
            "Requirement already satisfied: confection<1.0.0,>=0.0.1 in /usr/local/lib/python3.11/dist-packages (from thinc<8.3.0,>=8.2.2->spacy<3.8.0,>=3.7.2->en-core-web-md==3.7.1) (0.1.5)\n",
            "Requirement already satisfied: click>=8.0.0 in /usr/local/lib/python3.11/dist-packages (from typer<1.0.0,>=0.3.0->spacy<3.8.0,>=3.7.2->en-core-web-md==3.7.1) (8.1.8)\n",
            "Requirement already satisfied: shellingham>=1.3.0 in /usr/local/lib/python3.11/dist-packages (from typer<1.0.0,>=0.3.0->spacy<3.8.0,>=3.7.2->en-core-web-md==3.7.1) (1.5.4)\n",
            "Requirement already satisfied: rich>=10.11.0 in /usr/local/lib/python3.11/dist-packages (from typer<1.0.0,>=0.3.0->spacy<3.8.0,>=3.7.2->en-core-web-md==3.7.1) (13.9.4)\n",
            "Requirement already satisfied: cloudpathlib<1.0.0,>=0.7.0 in /usr/local/lib/python3.11/dist-packages (from weasel<0.5.0,>=0.1.0->spacy<3.8.0,>=3.7.2->en-core-web-md==3.7.1) (0.21.0)\n",
            "Requirement already satisfied: smart-open<8.0.0,>=5.2.1 in /usr/local/lib/python3.11/dist-packages (from weasel<0.5.0,>=0.1.0->spacy<3.8.0,>=3.7.2->en-core-web-md==3.7.1) (7.1.0)\n",
            "Requirement already satisfied: MarkupSafe>=2.0 in /usr/local/lib/python3.11/dist-packages (from jinja2->spacy<3.8.0,>=3.7.2->en-core-web-md==3.7.1) (3.0.2)\n",
            "Requirement already satisfied: marisa-trie>=1.1.0 in /usr/local/lib/python3.11/dist-packages (from language-data>=1.2->langcodes<4.0.0,>=3.2.0->spacy<3.8.0,>=3.7.2->en-core-web-md==3.7.1) (1.2.1)\n",
            "Requirement already satisfied: markdown-it-py>=2.2.0 in /usr/local/lib/python3.11/dist-packages (from rich>=10.11.0->typer<1.0.0,>=0.3.0->spacy<3.8.0,>=3.7.2->en-core-web-md==3.7.1) (3.0.0)\n",
            "Requirement already satisfied: pygments<3.0.0,>=2.13.0 in /usr/local/lib/python3.11/dist-packages (from rich>=10.11.0->typer<1.0.0,>=0.3.0->spacy<3.8.0,>=3.7.2->en-core-web-md==3.7.1) (2.18.0)\n",
            "Requirement already satisfied: wrapt in /usr/local/lib/python3.11/dist-packages (from smart-open<8.0.0,>=5.2.1->weasel<0.5.0,>=0.1.0->spacy<3.8.0,>=3.7.2->en-core-web-md==3.7.1) (1.17.2)\n",
            "Requirement already satisfied: mdurl~=0.1 in /usr/local/lib/python3.11/dist-packages (from markdown-it-py>=2.2.0->rich>=10.11.0->typer<1.0.0,>=0.3.0->spacy<3.8.0,>=3.7.2->en-core-web-md==3.7.1) (0.1.2)\n",
            "\u001b[38;5;2m✔ Download and installation successful\u001b[0m\n",
            "You can now load the package via spacy.load('en_core_web_md')\n",
            "\u001b[38;5;3m⚠ Restart to reload dependencies\u001b[0m\n",
            "If you are in a Jupyter or Colab notebook, you may need to restart Python in\n",
            "order to load all the package's dependencies. You can do this by selecting the\n",
            "'Restart kernel' or 'Restart runtime' option.\n",
            "Requirement already satisfied: mysql-connector-python in /usr/local/lib/python3.11/dist-packages (9.2.0)\n",
            "Requirement already satisfied: gtts in /usr/local/lib/python3.11/dist-packages (2.5.4)\n",
            "Requirement already satisfied: pyttsx3 in /usr/local/lib/python3.11/dist-packages (2.98)\n",
            "Requirement already satisfied: requests<3,>=2.27 in /usr/local/lib/python3.11/dist-packages (from gtts) (2.32.3)\n",
            "Requirement already satisfied: click<8.2,>=7.1 in /usr/local/lib/python3.11/dist-packages (from gtts) (8.1.8)\n",
            "Requirement already satisfied: charset-normalizer<4,>=2 in /usr/local/lib/python3.11/dist-packages (from requests<3,>=2.27->gtts) (3.4.1)\n",
            "Requirement already satisfied: idna<4,>=2.5 in /usr/local/lib/python3.11/dist-packages (from requests<3,>=2.27->gtts) (3.10)\n",
            "Requirement already satisfied: urllib3<3,>=1.21.1 in /usr/local/lib/python3.11/dist-packages (from requests<3,>=2.27->gtts) (2.3.0)\n",
            "Requirement already satisfied: certifi>=2017.4.17 in /usr/local/lib/python3.11/dist-packages (from requests<3,>=2.27->gtts) (2025.1.31)\n",
            "\u001b[33mWARNING: Skipping ffmpeg as it is not installed.\u001b[0m\u001b[33m\n",
            "\u001b[0m\u001b[33mWARNING: Skipping imageio-ffmpeg as it is not installed.\u001b[0m\u001b[33m\n",
            "\u001b[0mRequirement already satisfied: ffmpeg-python in /usr/local/lib/python3.11/dist-packages (0.2.0)\n",
            "Requirement already satisfied: future in /usr/local/lib/python3.11/dist-packages (from ffmpeg-python) (1.0.0)\n"
          ]
        }
      ]
    },
    {
      "cell_type": "markdown",
      "source": [
        "# Bot de reserva"
      ],
      "metadata": {
        "id": "n2NEAkI6v9xl"
      }
    },
    {
      "cell_type": "markdown",
      "source": [
        "## Captura audio reserva"
      ],
      "metadata": {
        "id": "H6mudH-gwg0h"
      }
    },
    {
      "cell_type": "code",
      "execution_count": 14,
      "metadata": {
        "colab": {
          "base_uri": "https://localhost:8080/",
          "height": 39
        },
        "id": "php_D2TmMG6I",
        "outputId": "c8d6fc3f-42fe-4ddc-9fcb-35e9a02496d4"
      },
      "outputs": [
        {
          "output_type": "display_data",
          "data": {
            "text/plain": [
              "<IPython.core.display.HTML object>"
            ],
            "text/html": [
              "\n",
              "<script>\n",
              "var my_audio = \"\";\n",
              "var recorder, gumStream;\n",
              "\n",
              "function startRecording() {\n",
              "    navigator.mediaDevices.getUserMedia({ audio: true }).then(function(stream) {\n",
              "        gumStream = stream;\n",
              "        recorder = new MediaRecorder(stream);\n",
              "        recorder.ondataavailable = function(event) {\n",
              "            var reader = new FileReader();\n",
              "            reader.readAsDataURL(event.data);\n",
              "            reader.onloadend = function() {\n",
              "                var base64data = reader.result.split(',')[1];\n",
              "                google.colab.kernel.invokeFunction('notebook.save_audio', [base64data], {});\n",
              "            }\n",
              "        };\n",
              "        recorder.start();\n",
              "    });\n",
              "}\n",
              "\n",
              "function stopRecording() {\n",
              "    recorder.stop();\n",
              "    gumStream.getAudioTracks()[0].stop();\n",
              "}\n",
              "</script>\n",
              "\n",
              "<button onclick=\"startRecording()\"> Iniciar Grabación</button>\n",
              "<button onclick=\"stopRecording()\"> Detener Grabación</button>\n"
            ]
          },
          "metadata": {}
        }
      ],
      "source": [
        "import IPython\n",
        "import uuid\n",
        "from google.colab import output\n",
        "from base64 import b64decode\n",
        "import os\n",
        "\n",
        "# Crear la carpeta \"Original_recording\" si no existe\n",
        "os.makedirs(\"./Bot_NLP/original_recording\", exist_ok=True)\n",
        "\n",
        "AUDIO_HTML = \"\"\"\n",
        "<script>\n",
        "var my_audio = \"\";\n",
        "var recorder, gumStream;\n",
        "\n",
        "function startRecording() {\n",
        "    navigator.mediaDevices.getUserMedia({ audio: true }).then(function(stream) {\n",
        "        gumStream = stream;\n",
        "        recorder = new MediaRecorder(stream);\n",
        "        recorder.ondataavailable = function(event) {\n",
        "            var reader = new FileReader();\n",
        "            reader.readAsDataURL(event.data);\n",
        "            reader.onloadend = function() {\n",
        "                var base64data = reader.result.split(',')[1];\n",
        "                google.colab.kernel.invokeFunction('notebook.save_audio', [base64data], {});\n",
        "            }\n",
        "        };\n",
        "        recorder.start();\n",
        "    });\n",
        "}\n",
        "\n",
        "function stopRecording() {\n",
        "    recorder.stop();\n",
        "    gumStream.getAudioTracks()[0].stop();\n",
        "}\n",
        "</script>\n",
        "\n",
        "<button onclick=\"startRecording()\"> Iniciar Grabación</button>\n",
        "<button onclick=\"stopRecording()\"> Detener Grabación</button>\n",
        "\"\"\"\n",
        "\n",
        "IPython.display.display(IPython.display.HTML(AUDIO_HTML))\n",
        "\n",
        "# Función para guardar el audio en un archivo\n",
        "def save_audio(base64data):\n",
        "    audio_filename = f\"./Bot_NLP/original_recording/audio_{uuid.uuid4().hex}.wav\"\n",
        "    with open(audio_filename, \"wb\") as audio_file:\n",
        "        audio_file.write(b64decode(base64data))\n",
        "    print(f\"🎙 Audio guardado en: {audio_filename}\")\n",
        "    return audio_filename\n",
        "\n",
        "output.register_callback('notebook.save_audio', save_audio)"
      ]
    },
    {
      "cell_type": "markdown",
      "source": [
        "## Conversión de audio al formato .wav"
      ],
      "metadata": {
        "id": "kYITvoplwa_P"
      }
    },
    {
      "cell_type": "code",
      "execution_count": 3,
      "metadata": {
        "colab": {
          "base_uri": "https://localhost:8080/"
        },
        "id": "K9qaEJsvQdO4",
        "outputId": "f5c61d3f-08bf-44eb-a144-5d0103829bdb"
      },
      "outputs": [
        {
          "output_type": "stream",
          "name": "stdout",
          "text": [
            "📂 Archivos de audio encontrados: ['./Bot_NLP/original_recording/audio_1b621ff126b341fdb8cedb63a53bdd68.wav']\n",
            "✅ Archivo convertido y guardado en: ./Bot_NLP/converted_recording/audio_1b621ff126b341fdb8cedb63a53bdd68_converted.wav\n"
          ]
        }
      ],
      "source": [
        "import os\n",
        "import glob\n",
        "from pydub import AudioSegment\n",
        "\n",
        "# Rutas de las carpetas\n",
        "original_folder = \"./Bot_NLP/original_recording\"\n",
        "converted_folder = \"./Bot_NLP/converted_recording\"\n",
        "\n",
        "# Crear la carpeta si no existe\n",
        "os.makedirs(converted_folder, exist_ok=True)\n",
        "\n",
        "# Buscar archivos de audio en la carpeta original\n",
        "audio_files = glob.glob(f\"{original_folder}/audio_*.wav\")\n",
        "print(f\"Archivos de audio encontrados: {audio_files}\")\n",
        "\n",
        "# Función para convertir el audio a PCM WAV\n",
        "def convert_to_wav_pcm(audio_path):\n",
        "    filename = os.path.basename(audio_path).replace(\".wav\", \"_converted.wav\")\n",
        "    output_path = os.path.join(converted_folder, filename)\n",
        "\n",
        "    try:\n",
        "        # Cargar el archivo de audio y convertirlo\n",
        "        audio = AudioSegment.from_file(audio_path)\n",
        "        audio = audio.set_channels(1).set_frame_rate(16000)\n",
        "        audio.export(output_path, format=\"wav\")\n",
        "        print(f\"Archivo convertido y guardado en: {output_path}\")\n",
        "        return output_path\n",
        "    except Exception as e:\n",
        "        print(f\"Error al convertir el audio {audio_path}: {e}\")\n",
        "        return None\n",
        "\n",
        "# Convertir los archivos de audio y guardarlos en la nueva carpeta\n",
        "converted_audio_paths = [convert_to_wav_pcm(audio) for audio in audio_files]\n",
        "converted_audio_paths = [path for path in converted_audio_paths if path is not None]"
      ]
    },
    {
      "cell_type": "markdown",
      "source": [
        "## Funciones para realizar la creación de JSON de la reserva"
      ],
      "metadata": {
        "id": "Xu4zfYUcxat_"
      }
    },
    {
      "cell_type": "code",
      "source": [
        "import spacy\n",
        "import json\n",
        "import pandas as pd\n",
        "import re\n",
        "import unicodedata\n",
        "\n",
        "# Cargar modelos de NLP en inglés y español\n",
        "nlp_en = spacy.load(\"en_core_web_sm\")\n",
        "nlp_es = spacy.load(\"es_core_news_md\")\n",
        "\n",
        "# Filtro de aeropuertos válidos\n",
        "TIPOS_AEROPUERTO_VALIDOS = {\"large_airport\", \"medium_airport\", \"small_airport\"}\n",
        "\n",
        "# Lista de aerolíneas conocidas\n",
        "AEROLINEAS_CONOCIDAS = {\n",
        "    \"iberia\", \"avianca\", \"latam\", \"lufthansa\", \"ryanair\", \"air france\", \"american airlines\", \"delta\",\n",
        "    \"united airlines\", \"british airways\", \"emirates\", \"qatar airways\", \"klm\", \"turkish airlines\", \"copa airlines\"\n",
        "}\n",
        "\n",
        "# Quita los acentos a las ciudades para poder usar el archivo que contiene códigos IATA\n",
        "def quitar_acentos(s):\n",
        "    return ''.join(c for c in unicodedata.normalize('NFD', s) if unicodedata.category(c) != 'Mn').lower().strip()\n",
        "\n",
        "def cargar_ciudades(csv_path):\n",
        "    df = pd.read_csv(csv_path, dtype=str)\n",
        "    df = df[df[\"type\"].isin(TIPOS_AEROPUERTO_VALIDOS)]\n",
        "    df = df.dropna(subset=[\"municipality\"])\n",
        "    df[\"municipality\"] = df[\"municipality\"].apply(quitar_acentos)\n",
        "    return set(df[\"municipality\"])\n",
        "\n",
        "# Ruta al CSV de aeropuertos\n",
        "csv_path = \"./airport-codes.csv\"\n",
        "\n",
        "# Cargar la lista de ciudades\n",
        "ciudades_base = cargar_ciudades(csv_path)\n",
        "\n",
        "def extraer_ciudades_con_posiciones(texto):\n",
        "    texto_lower = quitar_acentos(texto)\n",
        "    ciudades_detectadas = []\n",
        "    # Buscar ciudades en el texto y guardar su posición\n",
        "    for ciudad in ciudades_base:\n",
        "        match = re.search(rf\"\\b{ciudad}\\b\", texto_lower)\n",
        "        if match:\n",
        "            ciudades_detectadas.append((ciudad.title(), match.start()))\n",
        "    # Ordenar por posición en el texto para preservar el orden\n",
        "    ciudades_detectadas.sort(key=lambda x: x[1])\n",
        "    # Extraer nombres de aerolíneas detectadas para excluirlas de ciudades\n",
        "    aerolinea_detectada = extraer_aerolinea(texto)\n",
        "    # Filtrar ciudades para eliminar la aerolínea detectada\n",
        "    ciudades_filtradas = [c[0] for c in ciudades_detectadas if c[0] != aerolinea_detectada]\n",
        "    return ciudades_filtradas\n",
        "\n",
        "def extraer_fecha(texto):\n",
        "    patron_fecha = r\"\\b(\\d{1,2}) de (enero|febrero|marzo|abril|mayo|junio|julio|agosto|septiembre|octubre|noviembre|diciembre) (?:del|de) (\\d{4})\\b\"\n",
        "    match = re.search(patron_fecha, texto.lower())\n",
        "    return f\"{match.group(1)} de {match.group(2).capitalize()} de {match.group(3)}\" if match else \"\"\n",
        "\n",
        "def extraer_tickets(texto):\n",
        "    patron_tickets = r\"(\\b(?:un|uno|dos|tres|cuatro|cinco|seis|siete|ocho|nueve|diez|\\d+)\\b)\\s*(tickets|boletos|pasajes|flights|billetes|vuelos|ticket|boleto|pasaje|flight|billete|vuelo)\"\n",
        "    match = re.search(patron_tickets, texto.lower())\n",
        "\n",
        "    if match:\n",
        "        cantidad = match.group(1).lower()\n",
        "        # Diccionario para convertir palabras en números\n",
        "        num_palabras = {\n",
        "            \"un\": 1, \"uno\": 1, \"dos\": 2, \"tres\": 3, \"cuatro\": 4, \"cinco\": 5,\n",
        "            \"seis\": 6, \"siete\": 7, \"ocho\": 8, \"nueve\": 9, \"diez\": 10\n",
        "        }\n",
        "        if cantidad in num_palabras:\n",
        "            return num_palabras[cantidad]\n",
        "\n",
        "        if cantidad.isdigit():\n",
        "            return int(cantidad)\n",
        "    return 1\n",
        "\n",
        "def extraer_aerolinea(texto):\n",
        "    texto_lower = quitar_acentos(texto)\n",
        "\n",
        "    for aerolinea in AEROLINEAS_CONOCIDAS:\n",
        "        if re.search(rf\"\\b{aerolinea}\\b\", texto_lower):\n",
        "            return aerolinea.title()\n",
        "    return \"No Especificado\"\n",
        "\n",
        "def ordenar_origen_destino(texto, ciudades_detectadas):\n",
        "    texto_lower = quitar_acentos(texto)\n",
        "\n",
        "    if len(ciudades_detectadas) >= 2:\n",
        "        # Si se menciona \"desde X a Y\", usamos esas ciudades como referencia\n",
        "        match = re.search(r\"desde\\s+(\\w+)\\s+a\\s+(\\w+)\", texto_lower)\n",
        "        if match:\n",
        "            origen, destino = match.groups()\n",
        "            origen = origen.title()\n",
        "            destino = destino.title()\n",
        "            if origen in ciudades_detectadas and destino in ciudades_detectadas:\n",
        "                return origen, destino\n",
        "        return ciudades_detectadas[:2]\n",
        "    return [\"Sin Aeropuerto\", \"Sin Aeropuerto\"]\n",
        "\n",
        "def extraer_informacion_a_json(texto):\n",
        "    info_reserva = {\n",
        "        \"source\": \"No Especificado\",\n",
        "        \"destination\": \"No Especificado\",\n",
        "        \"tickets\": 1,\n",
        "        \"date\": \"\",\n",
        "        \"airline\": \"No Especificado\"\n",
        "    }\n",
        "\n",
        "    # Extraer fecha, boletos y aerolínea\n",
        "    info_reserva[\"date\"] = extraer_fecha(texto)\n",
        "    info_reserva[\"tickets\"] = extraer_tickets(texto)\n",
        "    info_reserva[\"airline\"] = extraer_aerolinea(texto)\n",
        "\n",
        "    # Extraer ciudades con posiciones en el texto\n",
        "    ciudades_detectadas = extraer_ciudades_con_posiciones(texto)\n",
        "\n",
        "    # Ordenar correctamente origen y destino\n",
        "    info_reserva[\"source\"], info_reserva[\"destination\"] = ordenar_origen_destino(texto, ciudades_detectadas)\n",
        "\n",
        "    return json.dumps(info_reserva, indent=4, ensure_ascii=False)\n"
      ],
      "metadata": {
        "id": "yudnaw0fsuMt"
      },
      "execution_count": 4,
      "outputs": []
    },
    {
      "cell_type": "markdown",
      "source": [
        "## Realiza el proceso de transcripción"
      ],
      "metadata": {
        "id": "eA8m0vRqzSCT"
      }
    },
    {
      "cell_type": "code",
      "source": [
        "import whisper\n",
        "import os\n",
        "\n",
        "# Definir rutas de las carpetas\n",
        "ruta_audios = \"Bot_NLP/converted_recording\"\n",
        "ruta_textos = \"Bot_NLP/text_recording\"\n",
        "\n",
        "# Crear la carpeta si no existe\n",
        "os.makedirs(ruta_textos, exist_ok=True)\n",
        "\n",
        "# Cargar modelo de Whisper\n",
        "model = whisper.load_model(\"medium\")\n",
        "\n",
        "def transcribir_audio(audio_path, output_path):\n",
        "    print(f\"\\nTranscribiendo: {audio_path} ...\")\n",
        "    result = model.transcribe(audio_path)\n",
        "    texto_transcrito = result[\"text\"]\n",
        "    print(\"Transcripción:\")\n",
        "    print(texto_transcrito)\n",
        "    with open(output_path, \"w\", encoding=\"utf-8\") as f:\n",
        "        f.write(texto_transcrito)\n",
        "    print(f\"Transcripción guardada en: {output_path}\")\n",
        "\n",
        "# Recorrer los archivos de la carpeta de audios\n",
        "for archivo in os.listdir(ruta_audios):\n",
        "    if archivo.endswith((\".wav\")):\n",
        "        audio_path = os.path.join(ruta_audios, archivo)\n",
        "        texto_path = os.path.join(ruta_textos, os.path.splitext(archivo)[0] + \".txt\")\n",
        "        transcribir_audio(audio_path, texto_path)\n",
        "\n",
        "print(\"\\nProceso de transcripción completado.\")"
      ],
      "metadata": {
        "colab": {
          "base_uri": "https://localhost:8080/"
        },
        "id": "XSv8s8N_ATRM",
        "outputId": "0e989f10-d3ae-4fd3-e2c7-6b5b0b701fd3"
      },
      "execution_count": 9,
      "outputs": [
        {
          "output_type": "stream",
          "name": "stderr",
          "text": [
            "/usr/local/lib/python3.11/dist-packages/whisper/__init__.py:150: FutureWarning: You are using `torch.load` with `weights_only=False` (the current default value), which uses the default pickle module implicitly. It is possible to construct malicious pickle data which will execute arbitrary code during unpickling (See https://github.com/pytorch/pytorch/blob/main/SECURITY.md#untrusted-models for more details). In a future release, the default value for `weights_only` will be flipped to `True`. This limits the functions that could be executed during unpickling. Arbitrary objects will no longer be allowed to be loaded via this mode unless they are explicitly allowlisted by the user via `torch.serialization.add_safe_globals`. We recommend you start setting `weights_only=True` for any use case where you don't have full control of the loaded file. Please open an issue on GitHub for any issues related to this experimental feature.\n",
            "  checkpoint = torch.load(fp, map_location=device)\n"
          ]
        },
        {
          "output_type": "stream",
          "name": "stdout",
          "text": [
            "\n",
            "🎙️ Transcribiendo: Bot_NLP/converted_recording/audio_1b621ff126b341fdb8cedb63a53bdd68_converted.wav ...\n"
          ]
        },
        {
          "output_type": "stream",
          "name": "stderr",
          "text": [
            "/usr/local/lib/python3.11/dist-packages/whisper/transcribe.py:126: UserWarning: FP16 is not supported on CPU; using FP32 instead\n",
            "  warnings.warn(\"FP16 is not supported on CPU; using FP32 instead\")\n"
          ]
        },
        {
          "output_type": "stream",
          "name": "stdout",
          "text": [
            "📝 Transcripción:\n",
            " Buenas noches, por favor necesito un vuelo para Quito Guayaquil para la fecha del 25 de enero del 2025.\n",
            "✅ Transcripción guardada en: Bot_NLP/text_recording/audio_1b621ff126b341fdb8cedb63a53bdd68_converted.txt\n",
            "\n",
            "🎉 Proceso de transcripción completado.\n"
          ]
        }
      ]
    },
    {
      "cell_type": "markdown",
      "source": [
        "## Creación del archivo JSON de la reserva"
      ],
      "metadata": {
        "id": "qRovVrerzqy9"
      }
    },
    {
      "cell_type": "code",
      "source": [
        "import os\n",
        "import json\n",
        "\n",
        "# Rutas de carpetas\n",
        "transcription_folder = \"Bot_NLP/text_recording/\"\n",
        "json_output_folder = \"Bot_NLP/json_recording/\"\n",
        "\n",
        "# Crear la carpeta si no existe\n",
        "os.makedirs(json_output_folder, exist_ok=True)\n",
        "\n",
        "# Leer las transcripciones\n",
        "for filename in os.listdir(transcription_folder):\n",
        "    if filename.endswith(\".txt\"):\n",
        "        file_path = os.path.join(transcription_folder, filename)\n",
        "        # Leer contenido del archivo\n",
        "        with open(file_path, \"r\", encoding=\"utf-8\") as file:\n",
        "            texto_transcrito = file.read().strip()\n",
        "        # Generar JSON desde el texto transcrito\n",
        "        json_reserva = extraer_informacion_a_json(texto_transcrito)\n",
        "        # Definir el nombre del archivo JSON\n",
        "        json_filename = os.path.splitext(filename)[0] + \".json\"\n",
        "        json_path = os.path.join(json_output_folder, json_filename)\n",
        "        # Guardar el JSON en la carpeta de salida\n",
        "        with open(json_path, \"w\", encoding=\"utf-8\") as json_file:\n",
        "            json.dump(json.loads(json_reserva), json_file, indent=4, ensure_ascii=False)\n",
        "\n",
        "        print(\"JSON de Reserva:\", extraer_informacion_a_json(texto_transcrito))\n",
        "        print(f\"\\n JSON guardado: {json_path}\")"
      ],
      "metadata": {
        "colab": {
          "base_uri": "https://localhost:8080/"
        },
        "id": "bMSTRQwzHv0C",
        "outputId": "eab3ab2b-b7ca-4e34-8ae2-602586e43730"
      },
      "execution_count": 26,
      "outputs": [
        {
          "output_type": "stream",
          "name": "stdout",
          "text": [
            "🔹 JSON de Reserva: {\n",
            "    \"source\": \"Quito\",\n",
            "    \"destination\": \"Guayaquil\",\n",
            "    \"tickets\": 1,\n",
            "    \"date\": \"25 de Enero de 2025\",\n",
            "    \"airline\": \"No Especificado\"\n",
            "}\n",
            "\n",
            "✅ JSON guardado: Bot_NLP/json_recording/audio_1b621ff126b341fdb8cedb63a53bdd68_converted.json\n"
          ]
        }
      ]
    },
    {
      "cell_type": "markdown",
      "source": [
        "## Almacena los resultados del JSON de reserva en la base de datos"
      ],
      "metadata": {
        "id": "shLiomt00DZ1"
      }
    },
    {
      "cell_type": "code",
      "source": [
        "import mysql.connector\n",
        "import json\n",
        "\n",
        "# Configurar los datos de conexión\n",
        "conexion = mysql.connector.connect(\n",
        "    # Endpoint de SingleStore Cloud\n",
        "    host=\"svc-15fdff82-6c53-40e2-a4de-19c59e39b17a-dml.aws-oregon-4.svc.singlestore.com\",\n",
        "    user=\"admin\",\n",
        "    password=\"rdme6tYm4qYA35cZzaVYLZHDn6rRCVfP\",\n",
        "    database=\"Bot_NLP\",\n",
        "    port=3306\n",
        ")\n",
        "\n",
        "cursor = conexion.cursor()\n",
        "\n",
        "# Ruta de la carpeta donde se guardan los archivos JSON\n",
        "json_folder = \"Bot_NLP/json_recording/\"\n",
        "\n",
        "if not os.path.exists(json_folder):\n",
        "    print(\"La carpeta de JSON no existe.\")\n",
        "    exit()\n",
        "\n",
        "for filename in os.listdir(json_folder):\n",
        "    if filename.endswith(\".json\"):\n",
        "        json_path = os.path.join(json_folder, filename)\n",
        "        # Leer contenido del archivo JSON\n",
        "        with open(json_path, \"r\", encoding=\"utf-8\") as json_file:\n",
        "            data = json.load(json_file)\n",
        "        # Extraer datos del JSON\n",
        "        source = data.get(\"source\", \"Sin Aeropuerto\")\n",
        "        destination = data.get(\"destination\", \"Sin Aeropuerto\")\n",
        "        tickets = data.get(\"tickets\", 1)\n",
        "        date = data.get(\"date\", \"\")\n",
        "        airline = data.get(\"airline\", \"No Especificado\")\n",
        "\n",
        "        # Consulta SQL para insertar en la tabla\n",
        "        sql = \"\"\"\n",
        "        INSERT INTO reservas_vuelos (source, destination, tickets, date, airline)\n",
        "        VALUES (%s, %s, %s, %s, %s)\n",
        "        \"\"\"\n",
        "\n",
        "        # Ejecutar la consulta con los datos\n",
        "        cursor.execute(sql, (source, destination, tickets, date, airline))\n",
        "        print(f\"Insertado: {filename} -> {source} a {destination}, {tickets} tickets con {airline}\")\n",
        "\n",
        "# Confirmar los cambios en la base de datos\n",
        "conexion.commit()\n",
        "\n",
        "# Cerrar conexión\n",
        "cursor.close()\n",
        "conexion.close()\n",
        "\n",
        "print(\"\\n Todos los datos se han insertado en SingleStore.\")"
      ],
      "metadata": {
        "colab": {
          "base_uri": "https://localhost:8080/",
          "height": 426
        },
        "id": "CWh_3ibDTVg0",
        "outputId": "6df2202e-85f3-47ec-dcff-668d32a4aad4"
      },
      "execution_count": 27,
      "outputs": [
        {
          "output_type": "error",
          "ename": "InterfaceError",
          "evalue": "2003: Can't connect to MySQL server on 'svc-15fdff82-6c53-40e2-a4de-19c59e39b17a-dml.aws-oregon-4.svc.singlestore.com:3306' (Errno -2: Name or service not known)",
          "traceback": [
            "\u001b[0;31m---------------------------------------------------------------------------\u001b[0m",
            "\u001b[0;31mgaierror\u001b[0m                                  Traceback (most recent call last)",
            "\u001b[0;32m/usr/local/lib/python3.11/dist-packages/mysql/connector/network.py\u001b[0m in \u001b[0;36mopen_connection\u001b[0;34m(self)\u001b[0m\n\u001b[1;32m    767\u001b[0m         \u001b[0;32mtry\u001b[0m\u001b[0;34m:\u001b[0m\u001b[0;34m\u001b[0m\u001b[0;34m\u001b[0m\u001b[0m\n\u001b[0;32m--> 768\u001b[0;31m             addrinfos = socket.getaddrinfo(\n\u001b[0m\u001b[1;32m    769\u001b[0m                 \u001b[0mself\u001b[0m\u001b[0;34m.\u001b[0m\u001b[0mserver_host\u001b[0m\u001b[0;34m,\u001b[0m\u001b[0;34m\u001b[0m\u001b[0;34m\u001b[0m\u001b[0m\n",
            "\u001b[0;32m/usr/lib/python3.11/socket.py\u001b[0m in \u001b[0;36mgetaddrinfo\u001b[0;34m(host, port, family, type, proto, flags)\u001b[0m\n\u001b[1;32m    973\u001b[0m     \u001b[0maddrlist\u001b[0m \u001b[0;34m=\u001b[0m \u001b[0;34m[\u001b[0m\u001b[0;34m]\u001b[0m\u001b[0;34m\u001b[0m\u001b[0;34m\u001b[0m\u001b[0m\n\u001b[0;32m--> 974\u001b[0;31m     \u001b[0;32mfor\u001b[0m \u001b[0mres\u001b[0m \u001b[0;32min\u001b[0m \u001b[0m_socket\u001b[0m\u001b[0;34m.\u001b[0m\u001b[0mgetaddrinfo\u001b[0m\u001b[0;34m(\u001b[0m\u001b[0mhost\u001b[0m\u001b[0;34m,\u001b[0m \u001b[0mport\u001b[0m\u001b[0;34m,\u001b[0m \u001b[0mfamily\u001b[0m\u001b[0;34m,\u001b[0m \u001b[0mtype\u001b[0m\u001b[0;34m,\u001b[0m \u001b[0mproto\u001b[0m\u001b[0;34m,\u001b[0m \u001b[0mflags\u001b[0m\u001b[0;34m)\u001b[0m\u001b[0;34m:\u001b[0m\u001b[0;34m\u001b[0m\u001b[0;34m\u001b[0m\u001b[0m\n\u001b[0m\u001b[1;32m    975\u001b[0m         \u001b[0maf\u001b[0m\u001b[0;34m,\u001b[0m \u001b[0msocktype\u001b[0m\u001b[0;34m,\u001b[0m \u001b[0mproto\u001b[0m\u001b[0;34m,\u001b[0m \u001b[0mcanonname\u001b[0m\u001b[0;34m,\u001b[0m \u001b[0msa\u001b[0m \u001b[0;34m=\u001b[0m \u001b[0mres\u001b[0m\u001b[0;34m\u001b[0m\u001b[0;34m\u001b[0m\u001b[0m\n",
            "\u001b[0;31mgaierror\u001b[0m: [Errno -2] Name or service not known",
            "\nThe above exception was the direct cause of the following exception:\n",
            "\u001b[0;31mInterfaceError\u001b[0m                            Traceback (most recent call last)",
            "\u001b[0;32m<ipython-input-27-71252ceebeb5>\u001b[0m in \u001b[0;36m<cell line: 0>\u001b[0;34m()\u001b[0m\n\u001b[1;32m      3\u001b[0m \u001b[0;34m\u001b[0m\u001b[0m\n\u001b[1;32m      4\u001b[0m \u001b[0;31m# 🔹 Configurar los datos de conexión\u001b[0m\u001b[0;34m\u001b[0m\u001b[0;34m\u001b[0m\u001b[0m\n\u001b[0;32m----> 5\u001b[0;31m conexion = mysql.connector.connect(\n\u001b[0m\u001b[1;32m      6\u001b[0m     \u001b[0mhost\u001b[0m\u001b[0;34m=\u001b[0m\u001b[0;34m\"svc-15fdff82-6c53-40e2-a4de-19c59e39b17a-dml.aws-oregon-4.svc.singlestore.com\"\u001b[0m\u001b[0;34m,\u001b[0m  \u001b[0;31m# Reemplaza con el endpoint de SingleStore Cloud\u001b[0m\u001b[0;34m\u001b[0m\u001b[0;34m\u001b[0m\u001b[0m\n\u001b[1;32m      7\u001b[0m     \u001b[0muser\u001b[0m\u001b[0;34m=\u001b[0m\u001b[0;34m\"admin\"\u001b[0m\u001b[0;34m,\u001b[0m  \u001b[0;31m# Usuario proporcionado en SingleStore\u001b[0m\u001b[0;34m\u001b[0m\u001b[0;34m\u001b[0m\u001b[0m\n",
            "\u001b[0;32m/usr/local/lib/python3.11/dist-packages/mysql/connector/pooling.py\u001b[0m in \u001b[0;36mconnect\u001b[0;34m(*args, **kwargs)\u001b[0m\n\u001b[1;32m    321\u001b[0m     \u001b[0;32mif\u001b[0m \u001b[0mCMySQLConnection\u001b[0m \u001b[0;32mand\u001b[0m \u001b[0;32mnot\u001b[0m \u001b[0muse_pure\u001b[0m\u001b[0;34m:\u001b[0m\u001b[0;34m\u001b[0m\u001b[0;34m\u001b[0m\u001b[0m\n\u001b[1;32m    322\u001b[0m         \u001b[0;32mreturn\u001b[0m \u001b[0mCMySQLConnection\u001b[0m\u001b[0;34m(\u001b[0m\u001b[0;34m*\u001b[0m\u001b[0margs\u001b[0m\u001b[0;34m,\u001b[0m \u001b[0;34m**\u001b[0m\u001b[0mkwargs\u001b[0m\u001b[0;34m)\u001b[0m\u001b[0;34m\u001b[0m\u001b[0;34m\u001b[0m\u001b[0m\n\u001b[0;32m--> 323\u001b[0;31m     \u001b[0;32mreturn\u001b[0m \u001b[0mMySQLConnection\u001b[0m\u001b[0;34m(\u001b[0m\u001b[0;34m*\u001b[0m\u001b[0margs\u001b[0m\u001b[0;34m,\u001b[0m \u001b[0;34m**\u001b[0m\u001b[0mkwargs\u001b[0m\u001b[0;34m)\u001b[0m\u001b[0;34m\u001b[0m\u001b[0;34m\u001b[0m\u001b[0m\n\u001b[0m\u001b[1;32m    324\u001b[0m \u001b[0;34m\u001b[0m\u001b[0m\n\u001b[1;32m    325\u001b[0m \u001b[0;34m\u001b[0m\u001b[0m\n",
            "\u001b[0;32m/usr/local/lib/python3.11/dist-packages/mysql/connector/connection.py\u001b[0m in \u001b[0;36m__init__\u001b[0;34m(self, **kwargs)\u001b[0m\n\u001b[1;32m    182\u001b[0m         \u001b[0;32mif\u001b[0m \u001b[0mkwargs\u001b[0m\u001b[0;34m:\u001b[0m\u001b[0;34m\u001b[0m\u001b[0;34m\u001b[0m\u001b[0m\n\u001b[1;32m    183\u001b[0m             \u001b[0;32mtry\u001b[0m\u001b[0;34m:\u001b[0m\u001b[0;34m\u001b[0m\u001b[0;34m\u001b[0m\u001b[0m\n\u001b[0;32m--> 184\u001b[0;31m                 \u001b[0mself\u001b[0m\u001b[0;34m.\u001b[0m\u001b[0mconnect\u001b[0m\u001b[0;34m(\u001b[0m\u001b[0;34m**\u001b[0m\u001b[0mkwargs\u001b[0m\u001b[0;34m)\u001b[0m\u001b[0;34m\u001b[0m\u001b[0;34m\u001b[0m\u001b[0m\n\u001b[0m\u001b[1;32m    185\u001b[0m             \u001b[0;32mexcept\u001b[0m \u001b[0mException\u001b[0m\u001b[0;34m:\u001b[0m\u001b[0;34m\u001b[0m\u001b[0;34m\u001b[0m\u001b[0m\n\u001b[1;32m    186\u001b[0m                 \u001b[0;31m# Tidy-up underlying socket on failure\u001b[0m\u001b[0;34m\u001b[0m\u001b[0;34m\u001b[0m\u001b[0m\n",
            "\u001b[0;32m/usr/local/lib/python3.11/dist-packages/mysql/connector/abstracts.py\u001b[0m in \u001b[0;36mconnect\u001b[0;34m(self, **kwargs)\u001b[0m\n\u001b[1;32m   1527\u001b[0m \u001b[0;34m\u001b[0m\u001b[0m\n\u001b[1;32m   1528\u001b[0m         \u001b[0mself\u001b[0m\u001b[0;34m.\u001b[0m\u001b[0mdisconnect\u001b[0m\u001b[0;34m(\u001b[0m\u001b[0;34m)\u001b[0m\u001b[0;34m\u001b[0m\u001b[0;34m\u001b[0m\u001b[0m\n\u001b[0;32m-> 1529\u001b[0;31m         \u001b[0mself\u001b[0m\u001b[0;34m.\u001b[0m\u001b[0m_open_connection\u001b[0m\u001b[0;34m(\u001b[0m\u001b[0;34m)\u001b[0m\u001b[0;34m\u001b[0m\u001b[0;34m\u001b[0m\u001b[0m\n\u001b[0m\u001b[1;32m   1530\u001b[0m \u001b[0;34m\u001b[0m\u001b[0m\n\u001b[1;32m   1531\u001b[0m         charset, collation = (\n",
            "\u001b[0;32m/usr/local/lib/python3.11/dist-packages/mysql/connector/connection.py\u001b[0m in \u001b[0;36m_open_connection\u001b[0;34m(self)\u001b[0m\n\u001b[1;32m    408\u001b[0m                     \u001b[0mmsg\u001b[0m\u001b[0;34m=\u001b[0m\u001b[0merr\u001b[0m\u001b[0;34m.\u001b[0m\u001b[0mmsg\u001b[0m\u001b[0;34m,\u001b[0m\u001b[0;34m\u001b[0m\u001b[0;34m\u001b[0m\u001b[0m\n\u001b[1;32m    409\u001b[0m                 ) from err\n\u001b[0;32m--> 410\u001b[0;31m             \u001b[0;32mraise\u001b[0m \u001b[0merr\u001b[0m\u001b[0;34m\u001b[0m\u001b[0;34m\u001b[0m\u001b[0m\n\u001b[0m\u001b[1;32m    411\u001b[0m         \u001b[0;32mfinally\u001b[0m\u001b[0;34m:\u001b[0m\u001b[0;34m\u001b[0m\u001b[0;34m\u001b[0m\u001b[0m\n\u001b[1;32m    412\u001b[0m             \u001b[0;31m# as the connection is established, set back the read\u001b[0m\u001b[0;34m\u001b[0m\u001b[0;34m\u001b[0m\u001b[0m\n",
            "\u001b[0;32m/usr/local/lib/python3.11/dist-packages/mysql/connector/connection.py\u001b[0m in \u001b[0;36m_open_connection\u001b[0;34m(self)\u001b[0m\n\u001b[1;32m    379\u001b[0m         \u001b[0mself\u001b[0m\u001b[0;34m.\u001b[0m\u001b[0m_socket\u001b[0m \u001b[0;34m=\u001b[0m \u001b[0mself\u001b[0m\u001b[0;34m.\u001b[0m\u001b[0m_get_connection\u001b[0m\u001b[0;34m(\u001b[0m\u001b[0;34m)\u001b[0m\u001b[0;34m\u001b[0m\u001b[0;34m\u001b[0m\u001b[0m\n\u001b[1;32m    380\u001b[0m         \u001b[0;32mtry\u001b[0m\u001b[0;34m:\u001b[0m\u001b[0;34m\u001b[0m\u001b[0;34m\u001b[0m\u001b[0m\n\u001b[0;32m--> 381\u001b[0;31m             \u001b[0mself\u001b[0m\u001b[0;34m.\u001b[0m\u001b[0m_socket\u001b[0m\u001b[0;34m.\u001b[0m\u001b[0mopen_connection\u001b[0m\u001b[0;34m(\u001b[0m\u001b[0;34m)\u001b[0m\u001b[0;34m\u001b[0m\u001b[0;34m\u001b[0m\u001b[0m\n\u001b[0m\u001b[1;32m    382\u001b[0m \u001b[0;34m\u001b[0m\u001b[0m\n\u001b[1;32m    383\u001b[0m             \u001b[0;31m# do initial handshake\u001b[0m\u001b[0;34m\u001b[0m\u001b[0;34m\u001b[0m\u001b[0m\n",
            "\u001b[0;32m/usr/local/lib/python3.11/dist-packages/mysql/connector/network.py\u001b[0m in \u001b[0;36mopen_connection\u001b[0;34m(self)\u001b[0m\n\u001b[1;32m    786\u001b[0m                 \u001b[0maddrinfo\u001b[0m \u001b[0;34m=\u001b[0m \u001b[0maddrinfos\u001b[0m\u001b[0;34m[\u001b[0m\u001b[0;36m0\u001b[0m\u001b[0;34m]\u001b[0m\u001b[0;34m\u001b[0m\u001b[0;34m\u001b[0m\u001b[0m\n\u001b[1;32m    787\u001b[0m         \u001b[0;32mexcept\u001b[0m \u001b[0mIOError\u001b[0m \u001b[0;32mas\u001b[0m \u001b[0merr\u001b[0m\u001b[0;34m:\u001b[0m\u001b[0;34m\u001b[0m\u001b[0;34m\u001b[0m\u001b[0m\n\u001b[0;32m--> 788\u001b[0;31m             raise InterfaceError(\n\u001b[0m\u001b[1;32m    789\u001b[0m                 \u001b[0merrno\u001b[0m\u001b[0;34m=\u001b[0m\u001b[0;36m2003\u001b[0m\u001b[0;34m,\u001b[0m\u001b[0;34m\u001b[0m\u001b[0;34m\u001b[0m\u001b[0m\n\u001b[1;32m    790\u001b[0m                 \u001b[0mvalues\u001b[0m\u001b[0;34m=\u001b[0m\u001b[0;34m(\u001b[0m\u001b[0mself\u001b[0m\u001b[0;34m.\u001b[0m\u001b[0mserver_host\u001b[0m\u001b[0;34m,\u001b[0m \u001b[0mself\u001b[0m\u001b[0;34m.\u001b[0m\u001b[0mserver_port\u001b[0m\u001b[0;34m,\u001b[0m \u001b[0m_strioerror\u001b[0m\u001b[0;34m(\u001b[0m\u001b[0merr\u001b[0m\u001b[0;34m)\u001b[0m\u001b[0;34m)\u001b[0m\u001b[0;34m,\u001b[0m\u001b[0;34m\u001b[0m\u001b[0;34m\u001b[0m\u001b[0m\n",
            "\u001b[0;31mInterfaceError\u001b[0m: 2003: Can't connect to MySQL server on 'svc-15fdff82-6c53-40e2-a4de-19c59e39b17a-dml.aws-oregon-4.svc.singlestore.com:3306' (Errno -2: Name or service not known)"
          ]
        }
      ]
    },
    {
      "cell_type": "markdown",
      "source": [
        "## Genera la confirmación de la reserva"
      ],
      "metadata": {
        "id": "67q8VT5S5qwu"
      }
    },
    {
      "cell_type": "code",
      "source": [
        "import os\n",
        "import json\n",
        "from gtts import gTTS\n",
        "\n",
        "# Carpetas de entrada y salida\n",
        "json_folder = \"Bot_NLP/json_recording/\"\n",
        "audio_output_folder = \"Bot_NLP/audio_confirmation/\"\n",
        "\n",
        "# Crear la carpeta si no existe\n",
        "os.makedirs(audio_output_folder, exist_ok=True)\n",
        "\n",
        "def generar_confirmacion_audio(json_file):\n",
        "    file_path = os.path.join(json_folder, json_file)\n",
        "    # Leer el contenido del JSON\n",
        "    with open(file_path, \"r\", encoding=\"utf-8\") as file:\n",
        "        reserva = json.load(file)\n",
        "    # Construir mensaje de confirmación\n",
        "    mensaje = (\n",
        "        f\"Su reserva ha sido confirmada. {reserva['tickets']} boletos desde {reserva['source']} \"\n",
        "        f\"hasta {reserva['destination']} el {reserva['date']} con la aerolinea {reserva['airline']}.\"\n",
        "    )\n",
        "\n",
        "    # Generar el archivo de audio\n",
        "    tts = gTTS(text=mensaje, lang=\"es\")\n",
        "    audio_output_path = os.path.join(audio_output_folder, f\"{os.path.splitext(json_file)[0]}_confirmacion.mp3\")\n",
        "    tts.save(audio_output_path)\n",
        "\n",
        "    print(f\"Confirmación de reserva generada en: {audio_output_path}\")\n",
        "\n",
        "# Procesar los archivos JSON\n",
        "for filename in os.listdir(json_folder):\n",
        "    if filename.endswith(\".json\"):\n",
        "        generar_confirmacion_audio(filename)"
      ],
      "metadata": {
        "colab": {
          "base_uri": "https://localhost:8080/"
        },
        "id": "HF32pfxj8V4V",
        "outputId": "00bee8fe-bc72-454f-ae80-954e958d4c41"
      },
      "execution_count": 28,
      "outputs": [
        {
          "output_type": "stream",
          "name": "stdout",
          "text": [
            "✅ Confirmación de reserva generada en: Bot_NLP/audio_confirmation/audio_1b621ff126b341fdb8cedb63a53bdd68_converted_confirmacion.mp3\n"
          ]
        }
      ]
    },
    {
      "cell_type": "markdown",
      "source": [
        "# Comentarios"
      ],
      "metadata": {
        "id": "DRSTqff36oBY"
      }
    },
    {
      "cell_type": "markdown",
      "source": [
        "## Recibe audios comentarios"
      ],
      "metadata": {
        "id": "szkecJJ-6ttO"
      }
    },
    {
      "cell_type": "code",
      "source": [
        "import IPython\n",
        "import uuid\n",
        "from google.colab import output\n",
        "from base64 import b64decode\n",
        "import os\n",
        "\n",
        "# Crear la carpeta si no existe\n",
        "os.makedirs(\"./Bot_NLP/original_comment_recording/\", exist_ok=True)\n",
        "\n",
        "AUDIO_HTML = \"\"\"\n",
        "<script>\n",
        "var my_audio = \"\";\n",
        "var recorder, gumStream;\n",
        "\n",
        "function startRecording() {\n",
        "    navigator.mediaDevices.getUserMedia({ audio: true }).then(function(stream) {\n",
        "        gumStream = stream;\n",
        "        recorder = new MediaRecorder(stream);\n",
        "        recorder.ondataavailable = function(event) {\n",
        "            var reader = new FileReader();\n",
        "            reader.readAsDataURL(event.data);\n",
        "            reader.onloadend = function() {\n",
        "                var base64data = reader.result.split(',')[1];\n",
        "                google.colab.kernel.invokeFunction('notebook.save_audio', [base64data], {});\n",
        "            }\n",
        "        };\n",
        "        recorder.start();\n",
        "    });\n",
        "}\n",
        "\n",
        "function stopRecording() {\n",
        "    recorder.stop();\n",
        "    gumStream.getAudioTracks()[0].stop();\n",
        "}\n",
        "</script>\n",
        "\n",
        "<button onclick=\"startRecording()\"> Iniciar Grabación</button>\n",
        "<button onclick=\"stopRecording()\"> Detener Grabación</button>\n",
        "\"\"\"\n",
        "\n",
        "IPython.display.display(IPython.display.HTML(AUDIO_HTML))\n",
        "\n",
        "# Función para guardar el audio en un archivo\n",
        "def save_audio(base64data):\n",
        "    audio_filename = f\"./Bot_NLP/original_comment_recording/audio_{uuid.uuid4().hex}.wav\"\n",
        "    with open(audio_filename, \"wb\") as audio_file:\n",
        "        audio_file.write(b64decode(base64data))\n",
        "    print(f\" Audio guardado en: {audio_filename}\")\n",
        "    return audio_filename\n",
        "\n",
        "# Registrar la función en Google Colab\n",
        "output.register_callback('notebook.save_audio', save_audio)"
      ],
      "metadata": {
        "colab": {
          "base_uri": "https://localhost:8080/",
          "height": 58
        },
        "id": "R47QD0fMdnH7",
        "outputId": "906ae88f-8970-43a7-f2ca-b358365de2ab"
      },
      "execution_count": 15,
      "outputs": [
        {
          "output_type": "display_data",
          "data": {
            "text/plain": [
              "<IPython.core.display.HTML object>"
            ],
            "text/html": [
              "\n",
              "<script>\n",
              "var my_audio = \"\";\n",
              "var recorder, gumStream;\n",
              "\n",
              "function startRecording() {\n",
              "    navigator.mediaDevices.getUserMedia({ audio: true }).then(function(stream) {\n",
              "        gumStream = stream;\n",
              "        recorder = new MediaRecorder(stream);\n",
              "        recorder.ondataavailable = function(event) {\n",
              "            var reader = new FileReader();\n",
              "            reader.readAsDataURL(event.data);\n",
              "            reader.onloadend = function() {\n",
              "                var base64data = reader.result.split(',')[1];\n",
              "                google.colab.kernel.invokeFunction('notebook.save_audio', [base64data], {});\n",
              "            }\n",
              "        };\n",
              "        recorder.start();\n",
              "    });\n",
              "}\n",
              "\n",
              "function stopRecording() {\n",
              "    recorder.stop();\n",
              "    gumStream.getAudioTracks()[0].stop();\n",
              "}\n",
              "</script>\n",
              "\n",
              "<button onclick=\"startRecording()\">🎤 Iniciar Grabación</button>\n",
              "<button onclick=\"stopRecording()\">🛑 Detener Grabación</button>\n"
            ]
          },
          "metadata": {}
        },
        {
          "output_type": "stream",
          "name": "stdout",
          "text": [
            "🎙 Audio guardado en: ./Bot_NLP/original_comment_recording/audio_d3ec5d70a55d48459c7455cb1e677e78.wav\n"
          ]
        }
      ]
    },
    {
      "cell_type": "code",
      "source": [
        "import os\n",
        "import glob\n",
        "from pydub import AudioSegment\n",
        "\n",
        "# Rutas de las carpetas\n",
        "original_folder = \"./Bot_NLP/original_comment_recording\"\n",
        "converted_folder = \"./Bot_NLP/converted_comment_recording\"\n",
        "\n",
        "os.makedirs(converted_folder, exist_ok=True)\n",
        "\n",
        "# Buscar archivo de audio\n",
        "audio_files = glob.glob(f\"{original_folder}/audio_*.wav\")\n",
        "print(f\"Archivos de audio encontrados: {audio_files}\")\n",
        "\n",
        "# Función para convertir el audio a PCM WAV\n",
        "def convert_to_wav_pcm(audio_path):\n",
        "    filename = os.path.basename(audio_path).replace(\".wav\", \"_converted.wav\")\n",
        "    output_path = os.path.join(converted_folder, filename)\n",
        "\n",
        "    try:\n",
        "        # Cargar el archivo de audio y convertirlo\n",
        "        audio = AudioSegment.from_file(audio_path)\n",
        "        audio = audio.set_channels(1).set_frame_rate(16000)\n",
        "        audio.export(output_path, format=\"wav\")\n",
        "        print(f\"Archivo convertido y guardado en: {output_path}\")\n",
        "        return output_path\n",
        "    except Exception as e:\n",
        "        print(f\"Error al convertir el audio {audio_path}: {e}\")\n",
        "        return None\n",
        "\n",
        "converted_audio_paths = [convert_to_wav_pcm(audio) for audio in audio_files]\n",
        "converted_audio_paths = [path for path in converted_audio_paths if path is not None]"
      ],
      "metadata": {
        "colab": {
          "base_uri": "https://localhost:8080/"
        },
        "id": "sg6IhAZod9mF",
        "outputId": "fdf82b43-03b6-4f0b-d3e0-60d95291b944"
      },
      "execution_count": 2,
      "outputs": [
        {
          "output_type": "stream",
          "name": "stdout",
          "text": [
            "📂 Archivos de audio encontrados: ['./Bot_NLP/original_comment_recording/audio_d3ec5d70a55d48459c7455cb1e677e78.wav']\n",
            "✅ Archivo convertido y guardado en: ./Bot_NLP/converted_comment_recording/audio_d3ec5d70a55d48459c7455cb1e677e78_converted.wav\n"
          ]
        }
      ]
    },
    {
      "cell_type": "markdown",
      "source": [
        "## Realiza la transcripción de los audios de comentarios:"
      ],
      "metadata": {
        "id": "9mzIQX8d9SSb"
      }
    },
    {
      "cell_type": "code",
      "source": [
        "import whisper\n",
        "import os\n",
        "\n",
        "# Definir rutas de las carpetas\n",
        "ruta_audios = \"Bot_NLP/converted_comment_recording\"\n",
        "ruta_textos = \"Bot_NLP/text_comment_recording\"\n",
        "\n",
        "os.makedirs(ruta_textos, exist_ok=True)\n",
        "\n",
        "# Cargar modelo de Whisper\n",
        "model = whisper.load_model(\"medium\")\n",
        "\n",
        "def transcribir_audio(audio_path, output_path):\n",
        "    print(f\"\\n Transcribiendo: {audio_path} ...\")\n",
        "    result = model.transcribe(audio_path)\n",
        "    texto_transcrito = result[\"text\"]\n",
        "    print(\"Transcripción:\")\n",
        "    print(texto_transcrito)\n",
        "\n",
        "    with open(output_path, \"w\", encoding=\"utf-8\") as f:\n",
        "        f.write(texto_transcrito)\n",
        "\n",
        "    print(f\"Transcripción guardada en: {output_path}\")\n",
        "\n",
        "for archivo in os.listdir(ruta_audios):\n",
        "    if archivo.endswith((\".wav\")):\n",
        "        audio_path = os.path.join(ruta_audios, archivo)\n",
        "        texto_path = os.path.join(ruta_textos, os.path.splitext(archivo)[0] + \".txt\")\n",
        "        transcribir_audio(audio_path, texto_path)\n",
        "\n",
        "print(\"\\n Proceso de transcripción completado.\")"
      ],
      "metadata": {
        "colab": {
          "base_uri": "https://localhost:8080/"
        },
        "id": "ZM4qA6hceh4R",
        "outputId": "e37d06a9-3b89-4970-a617-6a7c4169757f"
      },
      "execution_count": 3,
      "outputs": [
        {
          "output_type": "stream",
          "name": "stderr",
          "text": [
            "100%|█████████████████████████████████████| 1.42G/1.42G [00:21<00:00, 71.1MiB/s]\n",
            "/usr/local/lib/python3.11/dist-packages/whisper/__init__.py:150: FutureWarning: You are using `torch.load` with `weights_only=False` (the current default value), which uses the default pickle module implicitly. It is possible to construct malicious pickle data which will execute arbitrary code during unpickling (See https://github.com/pytorch/pytorch/blob/main/SECURITY.md#untrusted-models for more details). In a future release, the default value for `weights_only` will be flipped to `True`. This limits the functions that could be executed during unpickling. Arbitrary objects will no longer be allowed to be loaded via this mode unless they are explicitly allowlisted by the user via `torch.serialization.add_safe_globals`. We recommend you start setting `weights_only=True` for any use case where you don't have full control of the loaded file. Please open an issue on GitHub for any issues related to this experimental feature.\n",
            "  checkpoint = torch.load(fp, map_location=device)\n"
          ]
        },
        {
          "output_type": "stream",
          "name": "stdout",
          "text": [
            "\n",
            "🎙️ Transcribiendo: Bot_NLP/converted_comment_recording/audio_d3ec5d70a55d48459c7455cb1e677e78_converted.wav ...\n"
          ]
        },
        {
          "output_type": "stream",
          "name": "stderr",
          "text": [
            "/usr/local/lib/python3.11/dist-packages/whisper/transcribe.py:126: UserWarning: FP16 is not supported on CPU; using FP32 instead\n",
            "  warnings.warn(\"FP16 is not supported on CPU; using FP32 instead\")\n"
          ]
        },
        {
          "output_type": "stream",
          "name": "stdout",
          "text": [
            "📝 Transcripción:\n",
            "\n",
            "✅ Transcripción guardada en: Bot_NLP/text_comment_recording/audio_d3ec5d70a55d48459c7455cb1e677e78_converted.txt\n",
            "\n",
            "🎉 Proceso de transcripción completado.\n"
          ]
        }
      ]
    },
    {
      "cell_type": "markdown",
      "source": [
        "## Clasifica los comentarios y genera JSON"
      ],
      "metadata": {
        "id": "e-HSCsro9twd"
      }
    },
    {
      "cell_type": "code",
      "source": [
        "import os\n",
        "import json\n",
        "from transformers import pipeline\n",
        "\n",
        "# Configurar carpetas de entrada y salida\n",
        "transcription_folder = \"./Bot_NLP/text_comment_recording\"\n",
        "json_output_folder = \"./Bot_NLP/json_comment_recording\"\n",
        "\n",
        "os.makedirs(json_output_folder, exist_ok=True)\n",
        "\n",
        "# Cargar modelo de clasificación\n",
        "classifier = pipeline(\"zero-shot-classification\", model=\"joeddav/xlm-roberta-large-xnli\")\n",
        "\n",
        "# Definir etiquetas de clasificación\n",
        "labels = [\"Queja\", \"Felicitación\", \"Otro\"]\n",
        "\n",
        "# Leer las transcripciones\n",
        "for filename in os.listdir(transcription_folder):\n",
        "    if filename.endswith(\".txt\"):\n",
        "        file_path = os.path.join(transcription_folder, filename)\n",
        "        # Leer el contenido del archivo de transcripción\n",
        "        with open(file_path, \"r\", encoding=\"utf-8\") as file:\n",
        "            comentario = file.read().strip()\n",
        "        # Clasificar el comentario\n",
        "        resultado = classifier(comentario, labels)\n",
        "        # Obtener la etiqueta más probable y la confianza\n",
        "        categoria = resultado['labels'][0]\n",
        "        confianza = resultado['scores'][0]\n",
        "        data = {\n",
        "            \"comentario\": comentario,\n",
        "            \"categoria\": categoria,\n",
        "            \"confianza\": confianza\n",
        "        }\n",
        "\n",
        "        # Guardar en archivo JSON\n",
        "        json_filename = f\"{os.path.splitext(filename)[0]}.json\"\n",
        "        json_path = os.path.join(json_output_folder, json_filename)\n",
        "\n",
        "        with open(json_path, \"w\", encoding=\"utf-8\") as json_file:\n",
        "            json.dump(data, json_file, ensure_ascii=False, indent=4)\n",
        "\n",
        "        print(f\"Comentario clasificado y guardado en {json_filename}\")"
      ],
      "metadata": {
        "colab": {
          "base_uri": "https://localhost:8080/"
        },
        "id": "_kArdsi7hWeJ",
        "outputId": "b9af7090-0b85-44c0-f776-23241234cc5a"
      },
      "execution_count": 8,
      "outputs": [
        {
          "output_type": "stream",
          "name": "stderr",
          "text": [
            "Some weights of the model checkpoint at joeddav/xlm-roberta-large-xnli were not used when initializing XLMRobertaForSequenceClassification: ['roberta.pooler.dense.bias', 'roberta.pooler.dense.weight']\n",
            "- This IS expected if you are initializing XLMRobertaForSequenceClassification from the checkpoint of a model trained on another task or with another architecture (e.g. initializing a BertForSequenceClassification model from a BertForPreTraining model).\n",
            "- This IS NOT expected if you are initializing XLMRobertaForSequenceClassification from the checkpoint of a model that you expect to be exactly identical (initializing a BertForSequenceClassification model from a BertForSequenceClassification model).\n",
            "Device set to use cpu\n"
          ]
        },
        {
          "output_type": "stream",
          "name": "stdout",
          "text": [
            "\n",
            "🔹 Archivo: audio_d3ec5d70a55d48459c7455cb1e677e78_converted.txt\n",
            "🔹 Comentario: El vuelo llegó tarde y la atención fue pésima.\n",
            "✅ Clasificación: Queja (Confianza: 0.42)\n",
            "\n"
          ]
        }
      ]
    },
    {
      "cell_type": "markdown",
      "source": [
        "## Almacena los comentarios y su clasificación en la base de datos"
      ],
      "metadata": {
        "id": "fA_kRcah-HiP"
      }
    },
    {
      "cell_type": "code",
      "source": [
        "import os\n",
        "import mysql.connector\n",
        "import json\n",
        "\n",
        "# Configurar los datos de conexión a SingleStore\n",
        "conexion = mysql.connector.connect(\n",
        "    host=\"svc-15fdff82-6c53-40e2-9dee-b597dfb154a5-dml.aws-oregon-4.svc.singlestore.com\",\n",
        "    user=\"admin\",\n",
        "    password=\"rdme6tYm4qYA35cZzaVYLZHDn6rRCVfP\",\n",
        "    database=\"Bot_NLP\",\n",
        "    port=3306\n",
        ")\n",
        "\n",
        "cursor = conexion.cursor()\n",
        "\n",
        "# Carpeta donde están los JSON generados\n",
        "json_folder = \"./Bot_NLP/json_comment_recording\"\n",
        "\n",
        "# Función para insertar datos en la base de datos\n",
        "def insertar_en_bd(comentario, categoria, confianza):\n",
        "    try:\n",
        "        sql = \"\"\"\n",
        "        INSERT INTO comentarios_clasificados (comentario, categoria, confianza)\n",
        "        VALUES (%s, %s, %s)\n",
        "        \"\"\"\n",
        "        cursor.execute(sql, (comentario, categoria, confianza))\n",
        "        conexion.commit()\n",
        "        print(f\" Comentario almacenado en BD: {comentario[:50]}... ({categoria})\")\n",
        "    except Exception as e:\n",
        "        print(f\" Error al insertar en la base de datos: {e}\")\n",
        "\n",
        "# Procesar los archivos JSON en la carpeta\n",
        "for filename in os.listdir(json_folder):\n",
        "    if filename.endswith(\".json\"):\n",
        "        file_path = os.path.join(json_folder, filename)\n",
        "        # Leer el contenido del JSON\n",
        "        with open(file_path, \"r\", encoding=\"utf-8\") as file:\n",
        "            data = json.load(file)\n",
        "        # Extraer datos\n",
        "        comentario = data.get(\"comentario\", \"No especificado\")\n",
        "        categoria = data.get(\"categoria\", \"No clasificado\")\n",
        "        confianza = data.get(\"confianza\", 0.0)\n",
        "        # Almacenar en la base de datos\n",
        "        insertar_en_bd(comentario, categoria, confianza)\n",
        "\n",
        "# Cerrar conexión al finalizar\n",
        "cursor.close()\n",
        "conexion.close()\n",
        "print(\"Proceso completado, conexión cerrada.\")"
      ],
      "metadata": {
        "colab": {
          "base_uri": "https://localhost:8080/"
        },
        "id": "9gU-CDA4oJor",
        "outputId": "33ba37b4-c1b9-438a-e29c-4fa186cdc208"
      },
      "execution_count": 13,
      "outputs": [
        {
          "output_type": "stream",
          "name": "stdout",
          "text": [
            "✅ Comentario almacenado en BD: El vuelo llegó tarde y la atención fue pésima.... (Queja)\n",
            "✅ Proceso completado, conexión cerrada.\n"
          ]
        }
      ]
    },
    {
      "cell_type": "markdown",
      "source": [
        "# Telegram"
      ],
      "metadata": {
        "id": "Ug-8LGaFB0_o"
      }
    },
    {
      "cell_type": "code",
      "source": [
        "!pip install python-telegram-bot"
      ],
      "metadata": {
        "colab": {
          "base_uri": "https://localhost:8080/"
        },
        "id": "kWXPBbSgB6Nh",
        "outputId": "b8d3168a-762c-4ff9-8c05-9db4dc29eca8"
      },
      "execution_count": 8,
      "outputs": [
        {
          "output_type": "stream",
          "name": "stdout",
          "text": [
            "Requirement already satisfied: python-telegram-bot in /usr/local/lib/python3.11/dist-packages (21.11.1)\n",
            "Requirement already satisfied: httpx~=0.27 in /usr/local/lib/python3.11/dist-packages (from python-telegram-bot) (0.28.1)\n",
            "Requirement already satisfied: anyio in /usr/local/lib/python3.11/dist-packages (from httpx~=0.27->python-telegram-bot) (3.7.1)\n",
            "Requirement already satisfied: certifi in /usr/local/lib/python3.11/dist-packages (from httpx~=0.27->python-telegram-bot) (2025.1.31)\n",
            "Requirement already satisfied: httpcore==1.* in /usr/local/lib/python3.11/dist-packages (from httpx~=0.27->python-telegram-bot) (1.0.7)\n",
            "Requirement already satisfied: idna in /usr/local/lib/python3.11/dist-packages (from httpx~=0.27->python-telegram-bot) (3.10)\n",
            "Requirement already satisfied: h11<0.15,>=0.13 in /usr/local/lib/python3.11/dist-packages (from httpcore==1.*->httpx~=0.27->python-telegram-bot) (0.14.0)\n",
            "Requirement already satisfied: sniffio>=1.1 in /usr/local/lib/python3.11/dist-packages (from anyio->httpx~=0.27->python-telegram-bot) (1.3.1)\n"
          ]
        }
      ]
    },
    {
      "cell_type": "code",
      "source": [
        "import nest_asyncio\n",
        "nest_asyncio.apply()\n",
        "\n",
        "from telegram import Update, InlineKeyboardButton, InlineKeyboardMarkup\n",
        "from telegram.ext import ApplicationBuilder, CommandHandler, MessageHandler, CallbackQueryHandler, filters, CallbackContext\n",
        "import whisper\n",
        "import json\n",
        "import asyncio\n",
        "import os\n",
        "from gtts import gTTS\n",
        "from telegram import InputFile\n",
        "\n",
        "import mysql.connector\n",
        "import json\n",
        "\n",
        "# Configurar los datos de conexión\n",
        "DB_CONFIG = {\n",
        "    \"host\": \"svc-15fdff82-6c53-40e2-9dee-b597dfb154a5-dml.aws-oregon-4.svc.singlestore.com\",\n",
        "    \"user\": \"admin\",\n",
        "    \"password\": \"rdme6tYm4qYA35cZzaVYLZHDn6rRCVfP\",\n",
        "    \"database\": \"Bot_NLP\",\n",
        "    \"port\": 3306\n",
        "}\n",
        "\n",
        "# Ruta de la carpeta donde se guardan los archivos JSON\n",
        "json_folder = \"Bot_NLP/json_recording/\"\n",
        "\n",
        "audio_output_folder = \"Bot_NLP/audio_confirmation/\"\n",
        "os.makedirs(audio_output_folder, exist_ok=True)\n",
        "\n",
        "TOKEN = \"7419389274:AAHOJjsNnqBvo3Jr4I78TDTl3FuL8S5sryQ\"\n",
        "\n",
        "modelo_whisper = whisper.load_model(\"medium\")\n",
        "reservas_pendientes = {}\n",
        "\n",
        "async def procesar_mensaje(texto):\n",
        "    from spacy.lang.es import Spanish\n",
        "    nlp = Spanish()\n",
        "    datos_reserva = extraer_informacion_a_json(texto)\n",
        "\n",
        "    if isinstance(datos_reserva, str):\n",
        "        try:\n",
        "            datos_reserva = json.loads(datos_reserva)\n",
        "        except json.JSONDecodeError as e:\n",
        "            print(f\"Error al decodificar JSON: {e}\")\n",
        "            datos_reserva = {}\n",
        "    return datos_reserva\n",
        "\n",
        "\n",
        "async def responder_texto(update: Update, context: CallbackContext) -> None:\n",
        "    global reservas_pendientes\n",
        "\n",
        "    mensaje_usuario = update.message.text\n",
        "    datos_reserva = await procesar_mensaje(mensaje_usuario)\n",
        "\n",
        "    # Convertir a diccionario si aún es un string JSON\n",
        "    if isinstance(datos_reserva, str):\n",
        "        try:\n",
        "            datos_reserva = json.loads(datos_reserva)\n",
        "        except json.JSONDecodeError:\n",
        "            await update.message.reply_text(\"Error al procesar la reserva. Intenta nuevamente.\")\n",
        "            return\n",
        "\n",
        "    # Obtener el user_id\n",
        "    user_id = update.message.from_user.id\n",
        "\n",
        "    # Guardar la reserva en `reservas_pendientes`\n",
        "    reservas_pendientes[user_id] = datos_reserva\n",
        "\n",
        "    print(f\" Reserva guardada para user_id {user_id}: {reservas_pendientes}\")\n",
        "\n",
        "    # Crear botones de confirmación\n",
        "    keyboard = [\n",
        "        [InlineKeyboardButton(\"✅ Confirmar\", callback_data=\"confirmar\")],\n",
        "        [InlineKeyboardButton(\"❌ Cancelar\", callback_data=\"cancelar\")]\n",
        "    ]\n",
        "    reply_markup = InlineKeyboardMarkup(keyboard)\n",
        "\n",
        "    respuesta = (\n",
        "        f\"✈️ **Reserva detectada:**\\n\"\n",
        "        f\"🛫 Origen: {datos_reserva.get('source', 'No detectado')}\\n\"\n",
        "        f\"🛬 Destino: {datos_reserva.get('destination', 'No detectado')}\\n\"\n",
        "        f\"📅 Fecha: {datos_reserva.get('date', 'No detectado')}\\n\"\n",
        "        f\"🎫 Boletos: {datos_reserva.get('tickets', 1)}\\n\"\n",
        "        f\"🛩 Aerolínea: {datos_reserva.get('airline', 'No especificado')}\\n\\n\"\n",
        "        f\"¿Deseas confirmar la reserva?\"\n",
        "    )\n",
        "\n",
        "    await update.message.reply_text(respuesta, reply_markup=reply_markup, parse_mode=\"Markdown\")\n",
        "\n",
        "async def responder_audio(update: Update, context: CallbackContext) -> None:\n",
        "    global reservas_pendientes\n",
        "\n",
        "    archivo = await update.message.voice.get_file()\n",
        "    await archivo.download_to_drive(\"mensaje.ogg\")\n",
        "\n",
        "    # Convertir OGG a WAV\n",
        "    import ffmpeg\n",
        "    ffmpeg.input(\"mensaje.ogg\").output(\"mensaje.wav\").run(overwrite_output=True)\n",
        "\n",
        "    # Transcribir audio a texto\n",
        "    resultado = modelo_whisper.transcribe(\"mensaje.wav\")\n",
        "    texto_transcrito = resultado[\"text\"]\n",
        "\n",
        "    # Procesar mensaje transcrito\n",
        "    datos_reserva = await procesar_mensaje(texto_transcrito)\n",
        "\n",
        "    # Verificar la estructura de datos_reserva antes de acceder a ella\n",
        "    print(f\" Tipo de datos_reserva después de procesar_mensaje: {type(datos_reserva)}\")\n",
        "    print(f\" Contenido de datos_reserva: {datos_reserva}\")\n",
        "\n",
        "    # Forzar la conversión\n",
        "    if isinstance(datos_reserva, str):\n",
        "        try:\n",
        "            datos_reserva = json.loads(datos_reserva)\n",
        "        except json.JSONDecodeError as e:\n",
        "            print(f\"Error al convertir JSON: {e}\")\n",
        "            await update.message.reply_text(\"Error al procesar la reserva. Intenta nuevamente.\")\n",
        "            return\n",
        "\n",
        "    # Verificar que datos_reserva sea un diccionario\n",
        "    if not isinstance(datos_reserva, dict):\n",
        "        await update.message.reply_text(\"Error al procesar la reserva. Intenta nuevamente.\")\n",
        "        return\n",
        "\n",
        "    # Obtener el user_id correctamente\n",
        "    user_id = update.message.from_user.id\n",
        "\n",
        "    # Guardar la reserva en `reservas_pendientes`\n",
        "    reservas_pendientes[user_id] = datos_reserva\n",
        "\n",
        "    print(f\"Reserva guardada para user_id {user_id}: {reservas_pendientes}\")\n",
        "\n",
        "    keyboard = [\n",
        "        [InlineKeyboardButton(\"Confirmar\", callback_data=\"confirmar\")],\n",
        "        [InlineKeyboardButton(\"Cancelar\", callback_data=\"cancelar\")]\n",
        "    ]\n",
        "    reply_markup = InlineKeyboardMarkup(keyboard)\n",
        "\n",
        "    respuesta = (\n",
        "        f\"🎙 **Transcripción:** {texto_transcrito}\\n\\n\"\n",
        "        f\"✈️ **Reserva detectada:**\\n\"\n",
        "        f\"🛫 Origen: {datos_reserva.get('source', 'No detectado')}\\n\"\n",
        "        f\"🛬 Destino: {datos_reserva.get('destination', 'No detectado')}\\n\"\n",
        "        f\"📅 Fecha: {datos_reserva.get('date', 'No detectado')}\\n\"\n",
        "        f\"🎫 Boletos: {datos_reserva.get('tickets', 1)}\\n\"\n",
        "        f\"🛩 Aerolínea: {datos_reserva.get('airline', 'No especificado')}\\n\\n\"\n",
        "        f\"¿Deseas confirmar la reserva?\"\n",
        "    )\n",
        "\n",
        "    await update.message.reply_text(respuesta, reply_markup=reply_markup, parse_mode=\"Markdown\")\n",
        "\n",
        "async def generar_confirmacion_audio(user_id, reserva, context):\n",
        "    \"\"\"Genera un archivo de audio con la confirmación de la reserva y lo envía al usuario en Telegram.\"\"\"\n",
        "    mensaje = (\n",
        "        f\"Su reserva ha sido confirmada. {reserva['tickets']} boletos desde {reserva['source']} \"\n",
        "        f\"hasta {reserva['destination']} el {reserva['date']} con la aerolínea {reserva['airline']}.\"\n",
        "    )\n",
        "\n",
        "    # Generar archivo de audio\n",
        "    audio_output_path = os.path.join(audio_output_folder, f\"{user_id}_confirmacion.mp3\")\n",
        "    tts = gTTS(text=mensaje, lang=\"es\")\n",
        "    tts.save(audio_output_path)\n",
        "\n",
        "    print(f\"Confirmación de reserva generada en: {audio_output_path}\")\n",
        "\n",
        "    # Enviar audio al usuario en Telegram\n",
        "    with open(audio_output_path, \"rb\") as audio_file:\n",
        "        await context.bot.send_audio(chat_id=user_id, audio=InputFile(audio_file))\n",
        "\n",
        "    # Eliminar el archivo después de enviarlo\n",
        "    os.remove(audio_output_path)\n",
        "\n",
        "# Función corregida para manejar la confirmación\n",
        "async def manejar_confirmacion(update: Update, context: CallbackContext) -> None:\n",
        "    global reservas_pendientes\n",
        "\n",
        "    query = update.callback_query\n",
        "    user_id = query.from_user.id\n",
        "\n",
        "    print(f\"Intentando recuperar reserva para user_id: {user_id}\")\n",
        "    print(f\"Estado actual de reservas_pendientes: {reservas_pendientes}\")\n",
        "\n",
        "    # Verificar si hay una reserva pendiente\n",
        "    reserva = reservas_pendientes.get(user_id)\n",
        "\n",
        "    if reserva:\n",
        "        # Extraer datos de la reserva\n",
        "        source = reserva.get(\"source\", \"Sin Aeropuerto\")\n",
        "        destination = reserva.get(\"destination\", \"Sin Aeropuerto\")\n",
        "        tickets = reserva.get(\"tickets\", 1)\n",
        "        date = reserva.get(\"date\", \"\")\n",
        "        airline = reserva.get(\"airline\", \"No Especificado\")\n",
        "\n",
        "        # Insertar la reserva en la base de datos\n",
        "        try:\n",
        "            conexion = mysql.connector.connect(**DB_CONFIG)\n",
        "            cursor = conexion.cursor()\n",
        "\n",
        "            # Consulta SQL sin `user_id`\n",
        "            sql = \"\"\"\n",
        "            INSERT INTO reservas_vuelos (source, destination, tickets, date, airline)\n",
        "            VALUES (%s, %s, %s, %s, %s)\n",
        "            \"\"\"\n",
        "\n",
        "            # Ahora pasamos solo los valores requeridos\n",
        "            cursor.execute(sql, (source, destination, tickets, date, airline))\n",
        "            print(f\"✅ Insertado en BD: {source} a {destination}, {tickets} tickets con {airline}\")\n",
        "\n",
        "            conexion.commit()\n",
        "            cursor.close()\n",
        "            conexion.close()\n",
        "\n",
        "            print(f\"Reserva almacenada en la base de datos.\")\n",
        "\n",
        "        except mysql.connector.Error as e:\n",
        "            print(f\"Error al insertar en la base de datos: {e}\")\n",
        "            await query.edit_message_text(\"⚠️ Error al confirmar la reserva. Inténtalo nuevamente.\")\n",
        "            return\n",
        "\n",
        "        # Confirmar la reserva con texto\n",
        "        await query.edit_message_text(\"✅ ¡Reserva confirmada! ✈️\\nGracias por tu compra.\")\n",
        "\n",
        "        # Generar y enviar confirmación en audio\n",
        "        await generar_confirmacion_audio(user_id, reserva, context)\n",
        "\n",
        "        # Eliminar la reserva del diccionario\n",
        "        del reservas_pendientes[user_id]\n",
        "\n",
        "    else:\n",
        "        await query.edit_message_text(\"⚠️ No hay ninguna reserva pendiente.\")\n",
        "\n",
        "async def start(update: Update, context: CallbackContext) -> None:\n",
        "    await update.message.reply_text(\"¡Hola! Soy tu asistente de reservas de vuelos. ✈️ Dime tu destino y fecha.\")\n",
        "\n",
        "def main():\n",
        "    app = ApplicationBuilder().token(TOKEN).build()\n",
        "\n",
        "    # Manejadores de comandos y mensajes\n",
        "    app.add_handler(CommandHandler(\"start\", start))\n",
        "    app.add_handler(MessageHandler(filters.TEXT & ~filters.COMMAND, responder_texto))\n",
        "    app.add_handler(MessageHandler(filters.VOICE, responder_audio))\n",
        "    app.add_handler(CallbackQueryHandler(manejar_confirmacion))\n",
        "\n",
        "    loop = asyncio.get_event_loop()\n",
        "    loop.run_until_complete(app.run_polling())\n",
        "\n",
        "if __name__ == '__main__':\n",
        "    main()"
      ],
      "metadata": {
        "colab": {
          "base_uri": "https://localhost:8080/",
          "height": 527
        },
        "id": "-rx-Yif0va0o",
        "outputId": "18472d5f-93b4-49ee-f695-ec3f29f0113e"
      },
      "execution_count": 9,
      "outputs": [
        {
          "output_type": "stream",
          "name": "stderr",
          "text": [
            "/usr/local/lib/python3.11/dist-packages/whisper/transcribe.py:126: UserWarning: FP16 is not supported on CPU; using FP32 instead\n",
            "  warnings.warn(\"FP16 is not supported on CPU; using FP32 instead\")\n"
          ]
        },
        {
          "output_type": "stream",
          "name": "stdout",
          "text": [
            "📌 Tipo de datos_reserva después de procesar_mensaje: <class 'dict'>\n",
            "📌 Contenido de datos_reserva: {'source': 'Quito', 'destination': 'Cuenca', 'tickets': 3, 'date': '25 de Enero de 2025', 'airline': 'No Especificado'}\n",
            "✅ Reserva guardada para user_id 6240286376: {6240286376: {'source': 'Quito', 'destination': 'Cuenca', 'tickets': 3, 'date': '25 de Enero de 2025', 'airline': 'No Especificado'}}\n",
            "📌 Intentando recuperar reserva para user_id: 6240286376\n",
            "📌 Estado actual de reservas_pendientes: {6240286376: {'source': 'Quito', 'destination': 'Cuenca', 'tickets': 3, 'date': '25 de Enero de 2025', 'airline': 'No Especificado'}}\n",
            "✅ Insertado en BD: Quito a Cuenca, 3 tickets con No Especificado\n",
            "✅ Reserva almacenada en la base de datos.\n",
            "✅ Confirmación de reserva generada en: Bot_NLP/audio_confirmation/6240286376_confirmacion.mp3\n"
          ]
        },
        {
          "output_type": "error",
          "ename": "RuntimeError",
          "evalue": "Cannot close a running event loop",
          "traceback": [
            "\u001b[0;31m---------------------------------------------------------------------------\u001b[0m",
            "\u001b[0;31mRuntimeError\u001b[0m                              Traceback (most recent call last)",
            "\u001b[0;32m<ipython-input-9-fca1b8b1d834>\u001b[0m in \u001b[0;36m<cell line: 0>\u001b[0;34m()\u001b[0m\n\u001b[1;32m    254\u001b[0m \u001b[0;34m\u001b[0m\u001b[0m\n\u001b[1;32m    255\u001b[0m \u001b[0;32mif\u001b[0m \u001b[0m__name__\u001b[0m \u001b[0;34m==\u001b[0m \u001b[0;34m'__main__'\u001b[0m\u001b[0;34m:\u001b[0m\u001b[0;34m\u001b[0m\u001b[0;34m\u001b[0m\u001b[0m\n\u001b[0;32m--> 256\u001b[0;31m     \u001b[0mmain\u001b[0m\u001b[0;34m(\u001b[0m\u001b[0;34m)\u001b[0m\u001b[0;34m\u001b[0m\u001b[0;34m\u001b[0m\u001b[0m\n\u001b[0m",
            "\u001b[0;32m<ipython-input-9-fca1b8b1d834>\u001b[0m in \u001b[0;36mmain\u001b[0;34m()\u001b[0m\n\u001b[1;32m    251\u001b[0m \u001b[0;34m\u001b[0m\u001b[0m\n\u001b[1;32m    252\u001b[0m     \u001b[0mloop\u001b[0m \u001b[0;34m=\u001b[0m \u001b[0masyncio\u001b[0m\u001b[0;34m.\u001b[0m\u001b[0mget_event_loop\u001b[0m\u001b[0;34m(\u001b[0m\u001b[0;34m)\u001b[0m\u001b[0;34m\u001b[0m\u001b[0;34m\u001b[0m\u001b[0m\n\u001b[0;32m--> 253\u001b[0;31m     \u001b[0mloop\u001b[0m\u001b[0;34m.\u001b[0m\u001b[0mrun_until_complete\u001b[0m\u001b[0;34m(\u001b[0m\u001b[0mapp\u001b[0m\u001b[0;34m.\u001b[0m\u001b[0mrun_polling\u001b[0m\u001b[0;34m(\u001b[0m\u001b[0;34m)\u001b[0m\u001b[0;34m)\u001b[0m\u001b[0;34m\u001b[0m\u001b[0;34m\u001b[0m\u001b[0m\n\u001b[0m\u001b[1;32m    254\u001b[0m \u001b[0;34m\u001b[0m\u001b[0m\n\u001b[1;32m    255\u001b[0m \u001b[0;32mif\u001b[0m \u001b[0m__name__\u001b[0m \u001b[0;34m==\u001b[0m \u001b[0;34m'__main__'\u001b[0m\u001b[0;34m:\u001b[0m\u001b[0;34m\u001b[0m\u001b[0;34m\u001b[0m\u001b[0m\n",
            "\u001b[0;32m/usr/local/lib/python3.11/dist-packages/telegram/ext/_application.py\u001b[0m in \u001b[0;36mrun_polling\u001b[0;34m(self, poll_interval, timeout, bootstrap_retries, read_timeout, write_timeout, connect_timeout, pool_timeout, allowed_updates, drop_pending_updates, close_loop, stop_signals)\u001b[0m\n\u001b[1;32m    871\u001b[0m             \u001b[0mself\u001b[0m\u001b[0;34m.\u001b[0m\u001b[0mcreate_task\u001b[0m\u001b[0;34m(\u001b[0m\u001b[0mself\u001b[0m\u001b[0;34m.\u001b[0m\u001b[0mprocess_error\u001b[0m\u001b[0;34m(\u001b[0m\u001b[0merror\u001b[0m\u001b[0;34m=\u001b[0m\u001b[0mexc\u001b[0m\u001b[0;34m,\u001b[0m \u001b[0mupdate\u001b[0m\u001b[0;34m=\u001b[0m\u001b[0;32mNone\u001b[0m\u001b[0;34m)\u001b[0m\u001b[0;34m)\u001b[0m\u001b[0;34m\u001b[0m\u001b[0;34m\u001b[0m\u001b[0m\n\u001b[1;32m    872\u001b[0m \u001b[0;34m\u001b[0m\u001b[0m\n\u001b[0;32m--> 873\u001b[0;31m         return self.__run(\n\u001b[0m\u001b[1;32m    874\u001b[0m             updater_coroutine=self.updater.start_polling(\n\u001b[1;32m    875\u001b[0m                 \u001b[0mpoll_interval\u001b[0m\u001b[0;34m=\u001b[0m\u001b[0mpoll_interval\u001b[0m\u001b[0;34m,\u001b[0m\u001b[0;34m\u001b[0m\u001b[0;34m\u001b[0m\u001b[0m\n",
            "\u001b[0;32m/usr/local/lib/python3.11/dist-packages/telegram/ext/_application.py\u001b[0m in \u001b[0;36m__run\u001b[0;34m(self, updater_coroutine, stop_signals, bootstrap_retries, close_loop)\u001b[0m\n\u001b[1;32m   1115\u001b[0m             \u001b[0;32mfinally\u001b[0m\u001b[0;34m:\u001b[0m\u001b[0;34m\u001b[0m\u001b[0;34m\u001b[0m\u001b[0m\n\u001b[1;32m   1116\u001b[0m                 \u001b[0;32mif\u001b[0m \u001b[0mclose_loop\u001b[0m\u001b[0;34m:\u001b[0m\u001b[0;34m\u001b[0m\u001b[0;34m\u001b[0m\u001b[0m\n\u001b[0;32m-> 1117\u001b[0;31m                     \u001b[0mloop\u001b[0m\u001b[0;34m.\u001b[0m\u001b[0mclose\u001b[0m\u001b[0;34m(\u001b[0m\u001b[0;34m)\u001b[0m\u001b[0;34m\u001b[0m\u001b[0;34m\u001b[0m\u001b[0m\n\u001b[0m\u001b[1;32m   1118\u001b[0m \u001b[0;34m\u001b[0m\u001b[0m\n\u001b[1;32m   1119\u001b[0m     def create_task(\n",
            "\u001b[0;32m/usr/lib/python3.11/asyncio/unix_events.py\u001b[0m in \u001b[0;36mclose\u001b[0;34m(self)\u001b[0m\n\u001b[1;32m     66\u001b[0m \u001b[0;34m\u001b[0m\u001b[0m\n\u001b[1;32m     67\u001b[0m     \u001b[0;32mdef\u001b[0m \u001b[0mclose\u001b[0m\u001b[0;34m(\u001b[0m\u001b[0mself\u001b[0m\u001b[0;34m)\u001b[0m\u001b[0;34m:\u001b[0m\u001b[0;34m\u001b[0m\u001b[0;34m\u001b[0m\u001b[0m\n\u001b[0;32m---> 68\u001b[0;31m         \u001b[0msuper\u001b[0m\u001b[0;34m(\u001b[0m\u001b[0;34m)\u001b[0m\u001b[0;34m.\u001b[0m\u001b[0mclose\u001b[0m\u001b[0;34m(\u001b[0m\u001b[0;34m)\u001b[0m\u001b[0;34m\u001b[0m\u001b[0;34m\u001b[0m\u001b[0m\n\u001b[0m\u001b[1;32m     69\u001b[0m         \u001b[0;32mif\u001b[0m \u001b[0;32mnot\u001b[0m \u001b[0msys\u001b[0m\u001b[0;34m.\u001b[0m\u001b[0mis_finalizing\u001b[0m\u001b[0;34m(\u001b[0m\u001b[0;34m)\u001b[0m\u001b[0;34m:\u001b[0m\u001b[0;34m\u001b[0m\u001b[0;34m\u001b[0m\u001b[0m\n\u001b[1;32m     70\u001b[0m             \u001b[0;32mfor\u001b[0m \u001b[0msig\u001b[0m \u001b[0;32min\u001b[0m \u001b[0mlist\u001b[0m\u001b[0;34m(\u001b[0m\u001b[0mself\u001b[0m\u001b[0;34m.\u001b[0m\u001b[0m_signal_handlers\u001b[0m\u001b[0;34m)\u001b[0m\u001b[0;34m:\u001b[0m\u001b[0;34m\u001b[0m\u001b[0;34m\u001b[0m\u001b[0m\n",
            "\u001b[0;32m/usr/lib/python3.11/asyncio/selector_events.py\u001b[0m in \u001b[0;36mclose\u001b[0;34m(self)\u001b[0m\n\u001b[1;32m     86\u001b[0m     \u001b[0;32mdef\u001b[0m \u001b[0mclose\u001b[0m\u001b[0;34m(\u001b[0m\u001b[0mself\u001b[0m\u001b[0;34m)\u001b[0m\u001b[0;34m:\u001b[0m\u001b[0;34m\u001b[0m\u001b[0;34m\u001b[0m\u001b[0m\n\u001b[1;32m     87\u001b[0m         \u001b[0;32mif\u001b[0m \u001b[0mself\u001b[0m\u001b[0;34m.\u001b[0m\u001b[0mis_running\u001b[0m\u001b[0;34m(\u001b[0m\u001b[0;34m)\u001b[0m\u001b[0;34m:\u001b[0m\u001b[0;34m\u001b[0m\u001b[0;34m\u001b[0m\u001b[0m\n\u001b[0;32m---> 88\u001b[0;31m             \u001b[0;32mraise\u001b[0m \u001b[0mRuntimeError\u001b[0m\u001b[0;34m(\u001b[0m\u001b[0;34m\"Cannot close a running event loop\"\u001b[0m\u001b[0;34m)\u001b[0m\u001b[0;34m\u001b[0m\u001b[0;34m\u001b[0m\u001b[0m\n\u001b[0m\u001b[1;32m     89\u001b[0m         \u001b[0;32mif\u001b[0m \u001b[0mself\u001b[0m\u001b[0;34m.\u001b[0m\u001b[0mis_closed\u001b[0m\u001b[0;34m(\u001b[0m\u001b[0;34m)\u001b[0m\u001b[0;34m:\u001b[0m\u001b[0;34m\u001b[0m\u001b[0;34m\u001b[0m\u001b[0m\n\u001b[1;32m     90\u001b[0m             \u001b[0;32mreturn\u001b[0m\u001b[0;34m\u001b[0m\u001b[0;34m\u001b[0m\u001b[0m\n",
            "\u001b[0;31mRuntimeError\u001b[0m: Cannot close a running event loop"
          ]
        }
      ]
    }
  ],
  "metadata": {
    "colab": {
      "provenance": []
    },
    "kernelspec": {
      "display_name": "Python 3",
      "name": "python3"
    },
    "language_info": {
      "name": "python"
    }
  },
  "nbformat": 4,
  "nbformat_minor": 0
}